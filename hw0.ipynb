{
  "nbformat": 4,
  "nbformat_minor": 0,
  "metadata": {
    "colab": {
      "provenance": []
    },
    "kernelspec": {
      "display_name": "Python 3",
      "language": "python",
      "name": "python3"
    },
    "language_info": {
      "codemirror_mode": {
        "name": "ipython",
        "version": 3
      },
      "file_extension": ".py",
      "mimetype": "text/x-python",
      "name": "python",
      "nbconvert_exporter": "python",
      "pygments_lexer": "ipython3",
      "version": "3.7.3"
    },
    "widgets": {
      "application/vnd.jupyter.widget-state+json": {
        "29e6fecba3864802b9078ea58e695d84": {
          "model_module": "@jupyter-widgets/controls",
          "model_name": "HBoxModel",
          "model_module_version": "1.5.0",
          "state": {
            "_dom_classes": [],
            "_model_module": "@jupyter-widgets/controls",
            "_model_module_version": "1.5.0",
            "_model_name": "HBoxModel",
            "_view_count": null,
            "_view_module": "@jupyter-widgets/controls",
            "_view_module_version": "1.5.0",
            "_view_name": "HBoxView",
            "box_style": "",
            "children": [
              "IPY_MODEL_e32fae5d650a49dab1fb88341c2f7225",
              "IPY_MODEL_25c19cbea0244332a69ff554fead9cdd",
              "IPY_MODEL_fad8fe7bf3a84da3916b931ce0efdfc9"
            ],
            "layout": "IPY_MODEL_c768c9cbaef04b94b46254b4563762c3"
          }
        },
        "e32fae5d650a49dab1fb88341c2f7225": {
          "model_module": "@jupyter-widgets/controls",
          "model_name": "HTMLModel",
          "model_module_version": "1.5.0",
          "state": {
            "_dom_classes": [],
            "_model_module": "@jupyter-widgets/controls",
            "_model_module_version": "1.5.0",
            "_model_name": "HTMLModel",
            "_view_count": null,
            "_view_module": "@jupyter-widgets/controls",
            "_view_module_version": "1.5.0",
            "_view_name": "HTMLView",
            "description": "",
            "description_tooltip": null,
            "layout": "IPY_MODEL_410e76d93feb42b4a432f276422c43dc",
            "placeholder": "​",
            "style": "IPY_MODEL_a524ad2abbdf47c7b588ac21be79b05f",
            "value": "100%"
          }
        },
        "25c19cbea0244332a69ff554fead9cdd": {
          "model_module": "@jupyter-widgets/controls",
          "model_name": "FloatProgressModel",
          "model_module_version": "1.5.0",
          "state": {
            "_dom_classes": [],
            "_model_module": "@jupyter-widgets/controls",
            "_model_module_version": "1.5.0",
            "_model_name": "FloatProgressModel",
            "_view_count": null,
            "_view_module": "@jupyter-widgets/controls",
            "_view_module_version": "1.5.0",
            "_view_name": "ProgressView",
            "bar_style": "success",
            "description": "",
            "description_tooltip": null,
            "layout": "IPY_MODEL_f1bce5038e5a4eacb6a0a68bd632f017",
            "max": 9912422,
            "min": 0,
            "orientation": "horizontal",
            "style": "IPY_MODEL_665eb012b63d47ca83cce6e3fc9ae5bb",
            "value": 9912422
          }
        },
        "fad8fe7bf3a84da3916b931ce0efdfc9": {
          "model_module": "@jupyter-widgets/controls",
          "model_name": "HTMLModel",
          "model_module_version": "1.5.0",
          "state": {
            "_dom_classes": [],
            "_model_module": "@jupyter-widgets/controls",
            "_model_module_version": "1.5.0",
            "_model_name": "HTMLModel",
            "_view_count": null,
            "_view_module": "@jupyter-widgets/controls",
            "_view_module_version": "1.5.0",
            "_view_name": "HTMLView",
            "description": "",
            "description_tooltip": null,
            "layout": "IPY_MODEL_d637845d19e14765ab9047bd9f67ece1",
            "placeholder": "​",
            "style": "IPY_MODEL_f1d512dfc5cb44719fca7b321076d339",
            "value": " 9912422/9912422 [00:00&lt;00:00, 40716725.12it/s]"
          }
        },
        "c768c9cbaef04b94b46254b4563762c3": {
          "model_module": "@jupyter-widgets/base",
          "model_name": "LayoutModel",
          "model_module_version": "1.2.0",
          "state": {
            "_model_module": "@jupyter-widgets/base",
            "_model_module_version": "1.2.0",
            "_model_name": "LayoutModel",
            "_view_count": null,
            "_view_module": "@jupyter-widgets/base",
            "_view_module_version": "1.2.0",
            "_view_name": "LayoutView",
            "align_content": null,
            "align_items": null,
            "align_self": null,
            "border": null,
            "bottom": null,
            "display": null,
            "flex": null,
            "flex_flow": null,
            "grid_area": null,
            "grid_auto_columns": null,
            "grid_auto_flow": null,
            "grid_auto_rows": null,
            "grid_column": null,
            "grid_gap": null,
            "grid_row": null,
            "grid_template_areas": null,
            "grid_template_columns": null,
            "grid_template_rows": null,
            "height": null,
            "justify_content": null,
            "justify_items": null,
            "left": null,
            "margin": null,
            "max_height": null,
            "max_width": null,
            "min_height": null,
            "min_width": null,
            "object_fit": null,
            "object_position": null,
            "order": null,
            "overflow": null,
            "overflow_x": null,
            "overflow_y": null,
            "padding": null,
            "right": null,
            "top": null,
            "visibility": null,
            "width": null
          }
        },
        "410e76d93feb42b4a432f276422c43dc": {
          "model_module": "@jupyter-widgets/base",
          "model_name": "LayoutModel",
          "model_module_version": "1.2.0",
          "state": {
            "_model_module": "@jupyter-widgets/base",
            "_model_module_version": "1.2.0",
            "_model_name": "LayoutModel",
            "_view_count": null,
            "_view_module": "@jupyter-widgets/base",
            "_view_module_version": "1.2.0",
            "_view_name": "LayoutView",
            "align_content": null,
            "align_items": null,
            "align_self": null,
            "border": null,
            "bottom": null,
            "display": null,
            "flex": null,
            "flex_flow": null,
            "grid_area": null,
            "grid_auto_columns": null,
            "grid_auto_flow": null,
            "grid_auto_rows": null,
            "grid_column": null,
            "grid_gap": null,
            "grid_row": null,
            "grid_template_areas": null,
            "grid_template_columns": null,
            "grid_template_rows": null,
            "height": null,
            "justify_content": null,
            "justify_items": null,
            "left": null,
            "margin": null,
            "max_height": null,
            "max_width": null,
            "min_height": null,
            "min_width": null,
            "object_fit": null,
            "object_position": null,
            "order": null,
            "overflow": null,
            "overflow_x": null,
            "overflow_y": null,
            "padding": null,
            "right": null,
            "top": null,
            "visibility": null,
            "width": null
          }
        },
        "a524ad2abbdf47c7b588ac21be79b05f": {
          "model_module": "@jupyter-widgets/controls",
          "model_name": "DescriptionStyleModel",
          "model_module_version": "1.5.0",
          "state": {
            "_model_module": "@jupyter-widgets/controls",
            "_model_module_version": "1.5.0",
            "_model_name": "DescriptionStyleModel",
            "_view_count": null,
            "_view_module": "@jupyter-widgets/base",
            "_view_module_version": "1.2.0",
            "_view_name": "StyleView",
            "description_width": ""
          }
        },
        "f1bce5038e5a4eacb6a0a68bd632f017": {
          "model_module": "@jupyter-widgets/base",
          "model_name": "LayoutModel",
          "model_module_version": "1.2.0",
          "state": {
            "_model_module": "@jupyter-widgets/base",
            "_model_module_version": "1.2.0",
            "_model_name": "LayoutModel",
            "_view_count": null,
            "_view_module": "@jupyter-widgets/base",
            "_view_module_version": "1.2.0",
            "_view_name": "LayoutView",
            "align_content": null,
            "align_items": null,
            "align_self": null,
            "border": null,
            "bottom": null,
            "display": null,
            "flex": null,
            "flex_flow": null,
            "grid_area": null,
            "grid_auto_columns": null,
            "grid_auto_flow": null,
            "grid_auto_rows": null,
            "grid_column": null,
            "grid_gap": null,
            "grid_row": null,
            "grid_template_areas": null,
            "grid_template_columns": null,
            "grid_template_rows": null,
            "height": null,
            "justify_content": null,
            "justify_items": null,
            "left": null,
            "margin": null,
            "max_height": null,
            "max_width": null,
            "min_height": null,
            "min_width": null,
            "object_fit": null,
            "object_position": null,
            "order": null,
            "overflow": null,
            "overflow_x": null,
            "overflow_y": null,
            "padding": null,
            "right": null,
            "top": null,
            "visibility": null,
            "width": null
          }
        },
        "665eb012b63d47ca83cce6e3fc9ae5bb": {
          "model_module": "@jupyter-widgets/controls",
          "model_name": "ProgressStyleModel",
          "model_module_version": "1.5.0",
          "state": {
            "_model_module": "@jupyter-widgets/controls",
            "_model_module_version": "1.5.0",
            "_model_name": "ProgressStyleModel",
            "_view_count": null,
            "_view_module": "@jupyter-widgets/base",
            "_view_module_version": "1.2.0",
            "_view_name": "StyleView",
            "bar_color": null,
            "description_width": ""
          }
        },
        "d637845d19e14765ab9047bd9f67ece1": {
          "model_module": "@jupyter-widgets/base",
          "model_name": "LayoutModel",
          "model_module_version": "1.2.0",
          "state": {
            "_model_module": "@jupyter-widgets/base",
            "_model_module_version": "1.2.0",
            "_model_name": "LayoutModel",
            "_view_count": null,
            "_view_module": "@jupyter-widgets/base",
            "_view_module_version": "1.2.0",
            "_view_name": "LayoutView",
            "align_content": null,
            "align_items": null,
            "align_self": null,
            "border": null,
            "bottom": null,
            "display": null,
            "flex": null,
            "flex_flow": null,
            "grid_area": null,
            "grid_auto_columns": null,
            "grid_auto_flow": null,
            "grid_auto_rows": null,
            "grid_column": null,
            "grid_gap": null,
            "grid_row": null,
            "grid_template_areas": null,
            "grid_template_columns": null,
            "grid_template_rows": null,
            "height": null,
            "justify_content": null,
            "justify_items": null,
            "left": null,
            "margin": null,
            "max_height": null,
            "max_width": null,
            "min_height": null,
            "min_width": null,
            "object_fit": null,
            "object_position": null,
            "order": null,
            "overflow": null,
            "overflow_x": null,
            "overflow_y": null,
            "padding": null,
            "right": null,
            "top": null,
            "visibility": null,
            "width": null
          }
        },
        "f1d512dfc5cb44719fca7b321076d339": {
          "model_module": "@jupyter-widgets/controls",
          "model_name": "DescriptionStyleModel",
          "model_module_version": "1.5.0",
          "state": {
            "_model_module": "@jupyter-widgets/controls",
            "_model_module_version": "1.5.0",
            "_model_name": "DescriptionStyleModel",
            "_view_count": null,
            "_view_module": "@jupyter-widgets/base",
            "_view_module_version": "1.2.0",
            "_view_name": "StyleView",
            "description_width": ""
          }
        },
        "c83a6a73c3b94d3f985122dd178dfe78": {
          "model_module": "@jupyter-widgets/controls",
          "model_name": "HBoxModel",
          "model_module_version": "1.5.0",
          "state": {
            "_dom_classes": [],
            "_model_module": "@jupyter-widgets/controls",
            "_model_module_version": "1.5.0",
            "_model_name": "HBoxModel",
            "_view_count": null,
            "_view_module": "@jupyter-widgets/controls",
            "_view_module_version": "1.5.0",
            "_view_name": "HBoxView",
            "box_style": "",
            "children": [
              "IPY_MODEL_d8b856a5d26448d5b9115d69eaf94cd1",
              "IPY_MODEL_b1f1dee607a14b9fb5327f1726e8d9cb",
              "IPY_MODEL_dba332381e644a8d9a875c0c31c4b48e"
            ],
            "layout": "IPY_MODEL_7bad9782f8f54c38bbce93810116a181"
          }
        },
        "d8b856a5d26448d5b9115d69eaf94cd1": {
          "model_module": "@jupyter-widgets/controls",
          "model_name": "HTMLModel",
          "model_module_version": "1.5.0",
          "state": {
            "_dom_classes": [],
            "_model_module": "@jupyter-widgets/controls",
            "_model_module_version": "1.5.0",
            "_model_name": "HTMLModel",
            "_view_count": null,
            "_view_module": "@jupyter-widgets/controls",
            "_view_module_version": "1.5.0",
            "_view_name": "HTMLView",
            "description": "",
            "description_tooltip": null,
            "layout": "IPY_MODEL_ef5abdfb2eac48d78ea9f555c1126728",
            "placeholder": "​",
            "style": "IPY_MODEL_eec9022a946d4fb3b7728021003e1b10",
            "value": "100%"
          }
        },
        "b1f1dee607a14b9fb5327f1726e8d9cb": {
          "model_module": "@jupyter-widgets/controls",
          "model_name": "FloatProgressModel",
          "model_module_version": "1.5.0",
          "state": {
            "_dom_classes": [],
            "_model_module": "@jupyter-widgets/controls",
            "_model_module_version": "1.5.0",
            "_model_name": "FloatProgressModel",
            "_view_count": null,
            "_view_module": "@jupyter-widgets/controls",
            "_view_module_version": "1.5.0",
            "_view_name": "ProgressView",
            "bar_style": "success",
            "description": "",
            "description_tooltip": null,
            "layout": "IPY_MODEL_201ad54284d74317be504bbc25b0a534",
            "max": 28881,
            "min": 0,
            "orientation": "horizontal",
            "style": "IPY_MODEL_57b92a384a52489ea33d65d0b6d87b42",
            "value": 28881
          }
        },
        "dba332381e644a8d9a875c0c31c4b48e": {
          "model_module": "@jupyter-widgets/controls",
          "model_name": "HTMLModel",
          "model_module_version": "1.5.0",
          "state": {
            "_dom_classes": [],
            "_model_module": "@jupyter-widgets/controls",
            "_model_module_version": "1.5.0",
            "_model_name": "HTMLModel",
            "_view_count": null,
            "_view_module": "@jupyter-widgets/controls",
            "_view_module_version": "1.5.0",
            "_view_name": "HTMLView",
            "description": "",
            "description_tooltip": null,
            "layout": "IPY_MODEL_0c10b3ff30084436a1f7e6c8ed442f56",
            "placeholder": "​",
            "style": "IPY_MODEL_ba18ec2651d548c8be728798cfece844",
            "value": " 28881/28881 [00:00&lt;00:00, 423052.88it/s]"
          }
        },
        "7bad9782f8f54c38bbce93810116a181": {
          "model_module": "@jupyter-widgets/base",
          "model_name": "LayoutModel",
          "model_module_version": "1.2.0",
          "state": {
            "_model_module": "@jupyter-widgets/base",
            "_model_module_version": "1.2.0",
            "_model_name": "LayoutModel",
            "_view_count": null,
            "_view_module": "@jupyter-widgets/base",
            "_view_module_version": "1.2.0",
            "_view_name": "LayoutView",
            "align_content": null,
            "align_items": null,
            "align_self": null,
            "border": null,
            "bottom": null,
            "display": null,
            "flex": null,
            "flex_flow": null,
            "grid_area": null,
            "grid_auto_columns": null,
            "grid_auto_flow": null,
            "grid_auto_rows": null,
            "grid_column": null,
            "grid_gap": null,
            "grid_row": null,
            "grid_template_areas": null,
            "grid_template_columns": null,
            "grid_template_rows": null,
            "height": null,
            "justify_content": null,
            "justify_items": null,
            "left": null,
            "margin": null,
            "max_height": null,
            "max_width": null,
            "min_height": null,
            "min_width": null,
            "object_fit": null,
            "object_position": null,
            "order": null,
            "overflow": null,
            "overflow_x": null,
            "overflow_y": null,
            "padding": null,
            "right": null,
            "top": null,
            "visibility": null,
            "width": null
          }
        },
        "ef5abdfb2eac48d78ea9f555c1126728": {
          "model_module": "@jupyter-widgets/base",
          "model_name": "LayoutModel",
          "model_module_version": "1.2.0",
          "state": {
            "_model_module": "@jupyter-widgets/base",
            "_model_module_version": "1.2.0",
            "_model_name": "LayoutModel",
            "_view_count": null,
            "_view_module": "@jupyter-widgets/base",
            "_view_module_version": "1.2.0",
            "_view_name": "LayoutView",
            "align_content": null,
            "align_items": null,
            "align_self": null,
            "border": null,
            "bottom": null,
            "display": null,
            "flex": null,
            "flex_flow": null,
            "grid_area": null,
            "grid_auto_columns": null,
            "grid_auto_flow": null,
            "grid_auto_rows": null,
            "grid_column": null,
            "grid_gap": null,
            "grid_row": null,
            "grid_template_areas": null,
            "grid_template_columns": null,
            "grid_template_rows": null,
            "height": null,
            "justify_content": null,
            "justify_items": null,
            "left": null,
            "margin": null,
            "max_height": null,
            "max_width": null,
            "min_height": null,
            "min_width": null,
            "object_fit": null,
            "object_position": null,
            "order": null,
            "overflow": null,
            "overflow_x": null,
            "overflow_y": null,
            "padding": null,
            "right": null,
            "top": null,
            "visibility": null,
            "width": null
          }
        },
        "eec9022a946d4fb3b7728021003e1b10": {
          "model_module": "@jupyter-widgets/controls",
          "model_name": "DescriptionStyleModel",
          "model_module_version": "1.5.0",
          "state": {
            "_model_module": "@jupyter-widgets/controls",
            "_model_module_version": "1.5.0",
            "_model_name": "DescriptionStyleModel",
            "_view_count": null,
            "_view_module": "@jupyter-widgets/base",
            "_view_module_version": "1.2.0",
            "_view_name": "StyleView",
            "description_width": ""
          }
        },
        "201ad54284d74317be504bbc25b0a534": {
          "model_module": "@jupyter-widgets/base",
          "model_name": "LayoutModel",
          "model_module_version": "1.2.0",
          "state": {
            "_model_module": "@jupyter-widgets/base",
            "_model_module_version": "1.2.0",
            "_model_name": "LayoutModel",
            "_view_count": null,
            "_view_module": "@jupyter-widgets/base",
            "_view_module_version": "1.2.0",
            "_view_name": "LayoutView",
            "align_content": null,
            "align_items": null,
            "align_self": null,
            "border": null,
            "bottom": null,
            "display": null,
            "flex": null,
            "flex_flow": null,
            "grid_area": null,
            "grid_auto_columns": null,
            "grid_auto_flow": null,
            "grid_auto_rows": null,
            "grid_column": null,
            "grid_gap": null,
            "grid_row": null,
            "grid_template_areas": null,
            "grid_template_columns": null,
            "grid_template_rows": null,
            "height": null,
            "justify_content": null,
            "justify_items": null,
            "left": null,
            "margin": null,
            "max_height": null,
            "max_width": null,
            "min_height": null,
            "min_width": null,
            "object_fit": null,
            "object_position": null,
            "order": null,
            "overflow": null,
            "overflow_x": null,
            "overflow_y": null,
            "padding": null,
            "right": null,
            "top": null,
            "visibility": null,
            "width": null
          }
        },
        "57b92a384a52489ea33d65d0b6d87b42": {
          "model_module": "@jupyter-widgets/controls",
          "model_name": "ProgressStyleModel",
          "model_module_version": "1.5.0",
          "state": {
            "_model_module": "@jupyter-widgets/controls",
            "_model_module_version": "1.5.0",
            "_model_name": "ProgressStyleModel",
            "_view_count": null,
            "_view_module": "@jupyter-widgets/base",
            "_view_module_version": "1.2.0",
            "_view_name": "StyleView",
            "bar_color": null,
            "description_width": ""
          }
        },
        "0c10b3ff30084436a1f7e6c8ed442f56": {
          "model_module": "@jupyter-widgets/base",
          "model_name": "LayoutModel",
          "model_module_version": "1.2.0",
          "state": {
            "_model_module": "@jupyter-widgets/base",
            "_model_module_version": "1.2.0",
            "_model_name": "LayoutModel",
            "_view_count": null,
            "_view_module": "@jupyter-widgets/base",
            "_view_module_version": "1.2.0",
            "_view_name": "LayoutView",
            "align_content": null,
            "align_items": null,
            "align_self": null,
            "border": null,
            "bottom": null,
            "display": null,
            "flex": null,
            "flex_flow": null,
            "grid_area": null,
            "grid_auto_columns": null,
            "grid_auto_flow": null,
            "grid_auto_rows": null,
            "grid_column": null,
            "grid_gap": null,
            "grid_row": null,
            "grid_template_areas": null,
            "grid_template_columns": null,
            "grid_template_rows": null,
            "height": null,
            "justify_content": null,
            "justify_items": null,
            "left": null,
            "margin": null,
            "max_height": null,
            "max_width": null,
            "min_height": null,
            "min_width": null,
            "object_fit": null,
            "object_position": null,
            "order": null,
            "overflow": null,
            "overflow_x": null,
            "overflow_y": null,
            "padding": null,
            "right": null,
            "top": null,
            "visibility": null,
            "width": null
          }
        },
        "ba18ec2651d548c8be728798cfece844": {
          "model_module": "@jupyter-widgets/controls",
          "model_name": "DescriptionStyleModel",
          "model_module_version": "1.5.0",
          "state": {
            "_model_module": "@jupyter-widgets/controls",
            "_model_module_version": "1.5.0",
            "_model_name": "DescriptionStyleModel",
            "_view_count": null,
            "_view_module": "@jupyter-widgets/base",
            "_view_module_version": "1.2.0",
            "_view_name": "StyleView",
            "description_width": ""
          }
        },
        "d8815819aaf247cbb75600a97f372fa5": {
          "model_module": "@jupyter-widgets/controls",
          "model_name": "HBoxModel",
          "model_module_version": "1.5.0",
          "state": {
            "_dom_classes": [],
            "_model_module": "@jupyter-widgets/controls",
            "_model_module_version": "1.5.0",
            "_model_name": "HBoxModel",
            "_view_count": null,
            "_view_module": "@jupyter-widgets/controls",
            "_view_module_version": "1.5.0",
            "_view_name": "HBoxView",
            "box_style": "",
            "children": [
              "IPY_MODEL_a4f7528375524c95a6dfa219752b6e5f",
              "IPY_MODEL_eff97ad9ba164f0d8dd870b71159dab2",
              "IPY_MODEL_7a0fff1649f244d8ab460b838ec6e7df"
            ],
            "layout": "IPY_MODEL_543795c226914bd79d79114e2af4b3be"
          }
        },
        "a4f7528375524c95a6dfa219752b6e5f": {
          "model_module": "@jupyter-widgets/controls",
          "model_name": "HTMLModel",
          "model_module_version": "1.5.0",
          "state": {
            "_dom_classes": [],
            "_model_module": "@jupyter-widgets/controls",
            "_model_module_version": "1.5.0",
            "_model_name": "HTMLModel",
            "_view_count": null,
            "_view_module": "@jupyter-widgets/controls",
            "_view_module_version": "1.5.0",
            "_view_name": "HTMLView",
            "description": "",
            "description_tooltip": null,
            "layout": "IPY_MODEL_76821beaaf664bf6ba1a55515951f5a4",
            "placeholder": "​",
            "style": "IPY_MODEL_2c2c73cdfb7a427fb8c9b1ee35af2d99",
            "value": "100%"
          }
        },
        "eff97ad9ba164f0d8dd870b71159dab2": {
          "model_module": "@jupyter-widgets/controls",
          "model_name": "FloatProgressModel",
          "model_module_version": "1.5.0",
          "state": {
            "_dom_classes": [],
            "_model_module": "@jupyter-widgets/controls",
            "_model_module_version": "1.5.0",
            "_model_name": "FloatProgressModel",
            "_view_count": null,
            "_view_module": "@jupyter-widgets/controls",
            "_view_module_version": "1.5.0",
            "_view_name": "ProgressView",
            "bar_style": "success",
            "description": "",
            "description_tooltip": null,
            "layout": "IPY_MODEL_c039bf2729bb40f8a1b0f646924880e6",
            "max": 1648877,
            "min": 0,
            "orientation": "horizontal",
            "style": "IPY_MODEL_d6d0363799c844508dbebf2e8a1c9f53",
            "value": 1648877
          }
        },
        "7a0fff1649f244d8ab460b838ec6e7df": {
          "model_module": "@jupyter-widgets/controls",
          "model_name": "HTMLModel",
          "model_module_version": "1.5.0",
          "state": {
            "_dom_classes": [],
            "_model_module": "@jupyter-widgets/controls",
            "_model_module_version": "1.5.0",
            "_model_name": "HTMLModel",
            "_view_count": null,
            "_view_module": "@jupyter-widgets/controls",
            "_view_module_version": "1.5.0",
            "_view_name": "HTMLView",
            "description": "",
            "description_tooltip": null,
            "layout": "IPY_MODEL_7a35e1ce3f144de791a1f441d460bca4",
            "placeholder": "​",
            "style": "IPY_MODEL_c74ab391afd8424d9952f9f316e8da9f",
            "value": " 1648877/1648877 [00:00&lt;00:00, 3538344.58it/s]"
          }
        },
        "543795c226914bd79d79114e2af4b3be": {
          "model_module": "@jupyter-widgets/base",
          "model_name": "LayoutModel",
          "model_module_version": "1.2.0",
          "state": {
            "_model_module": "@jupyter-widgets/base",
            "_model_module_version": "1.2.0",
            "_model_name": "LayoutModel",
            "_view_count": null,
            "_view_module": "@jupyter-widgets/base",
            "_view_module_version": "1.2.0",
            "_view_name": "LayoutView",
            "align_content": null,
            "align_items": null,
            "align_self": null,
            "border": null,
            "bottom": null,
            "display": null,
            "flex": null,
            "flex_flow": null,
            "grid_area": null,
            "grid_auto_columns": null,
            "grid_auto_flow": null,
            "grid_auto_rows": null,
            "grid_column": null,
            "grid_gap": null,
            "grid_row": null,
            "grid_template_areas": null,
            "grid_template_columns": null,
            "grid_template_rows": null,
            "height": null,
            "justify_content": null,
            "justify_items": null,
            "left": null,
            "margin": null,
            "max_height": null,
            "max_width": null,
            "min_height": null,
            "min_width": null,
            "object_fit": null,
            "object_position": null,
            "order": null,
            "overflow": null,
            "overflow_x": null,
            "overflow_y": null,
            "padding": null,
            "right": null,
            "top": null,
            "visibility": null,
            "width": null
          }
        },
        "76821beaaf664bf6ba1a55515951f5a4": {
          "model_module": "@jupyter-widgets/base",
          "model_name": "LayoutModel",
          "model_module_version": "1.2.0",
          "state": {
            "_model_module": "@jupyter-widgets/base",
            "_model_module_version": "1.2.0",
            "_model_name": "LayoutModel",
            "_view_count": null,
            "_view_module": "@jupyter-widgets/base",
            "_view_module_version": "1.2.0",
            "_view_name": "LayoutView",
            "align_content": null,
            "align_items": null,
            "align_self": null,
            "border": null,
            "bottom": null,
            "display": null,
            "flex": null,
            "flex_flow": null,
            "grid_area": null,
            "grid_auto_columns": null,
            "grid_auto_flow": null,
            "grid_auto_rows": null,
            "grid_column": null,
            "grid_gap": null,
            "grid_row": null,
            "grid_template_areas": null,
            "grid_template_columns": null,
            "grid_template_rows": null,
            "height": null,
            "justify_content": null,
            "justify_items": null,
            "left": null,
            "margin": null,
            "max_height": null,
            "max_width": null,
            "min_height": null,
            "min_width": null,
            "object_fit": null,
            "object_position": null,
            "order": null,
            "overflow": null,
            "overflow_x": null,
            "overflow_y": null,
            "padding": null,
            "right": null,
            "top": null,
            "visibility": null,
            "width": null
          }
        },
        "2c2c73cdfb7a427fb8c9b1ee35af2d99": {
          "model_module": "@jupyter-widgets/controls",
          "model_name": "DescriptionStyleModel",
          "model_module_version": "1.5.0",
          "state": {
            "_model_module": "@jupyter-widgets/controls",
            "_model_module_version": "1.5.0",
            "_model_name": "DescriptionStyleModel",
            "_view_count": null,
            "_view_module": "@jupyter-widgets/base",
            "_view_module_version": "1.2.0",
            "_view_name": "StyleView",
            "description_width": ""
          }
        },
        "c039bf2729bb40f8a1b0f646924880e6": {
          "model_module": "@jupyter-widgets/base",
          "model_name": "LayoutModel",
          "model_module_version": "1.2.0",
          "state": {
            "_model_module": "@jupyter-widgets/base",
            "_model_module_version": "1.2.0",
            "_model_name": "LayoutModel",
            "_view_count": null,
            "_view_module": "@jupyter-widgets/base",
            "_view_module_version": "1.2.0",
            "_view_name": "LayoutView",
            "align_content": null,
            "align_items": null,
            "align_self": null,
            "border": null,
            "bottom": null,
            "display": null,
            "flex": null,
            "flex_flow": null,
            "grid_area": null,
            "grid_auto_columns": null,
            "grid_auto_flow": null,
            "grid_auto_rows": null,
            "grid_column": null,
            "grid_gap": null,
            "grid_row": null,
            "grid_template_areas": null,
            "grid_template_columns": null,
            "grid_template_rows": null,
            "height": null,
            "justify_content": null,
            "justify_items": null,
            "left": null,
            "margin": null,
            "max_height": null,
            "max_width": null,
            "min_height": null,
            "min_width": null,
            "object_fit": null,
            "object_position": null,
            "order": null,
            "overflow": null,
            "overflow_x": null,
            "overflow_y": null,
            "padding": null,
            "right": null,
            "top": null,
            "visibility": null,
            "width": null
          }
        },
        "d6d0363799c844508dbebf2e8a1c9f53": {
          "model_module": "@jupyter-widgets/controls",
          "model_name": "ProgressStyleModel",
          "model_module_version": "1.5.0",
          "state": {
            "_model_module": "@jupyter-widgets/controls",
            "_model_module_version": "1.5.0",
            "_model_name": "ProgressStyleModel",
            "_view_count": null,
            "_view_module": "@jupyter-widgets/base",
            "_view_module_version": "1.2.0",
            "_view_name": "StyleView",
            "bar_color": null,
            "description_width": ""
          }
        },
        "7a35e1ce3f144de791a1f441d460bca4": {
          "model_module": "@jupyter-widgets/base",
          "model_name": "LayoutModel",
          "model_module_version": "1.2.0",
          "state": {
            "_model_module": "@jupyter-widgets/base",
            "_model_module_version": "1.2.0",
            "_model_name": "LayoutModel",
            "_view_count": null,
            "_view_module": "@jupyter-widgets/base",
            "_view_module_version": "1.2.0",
            "_view_name": "LayoutView",
            "align_content": null,
            "align_items": null,
            "align_self": null,
            "border": null,
            "bottom": null,
            "display": null,
            "flex": null,
            "flex_flow": null,
            "grid_area": null,
            "grid_auto_columns": null,
            "grid_auto_flow": null,
            "grid_auto_rows": null,
            "grid_column": null,
            "grid_gap": null,
            "grid_row": null,
            "grid_template_areas": null,
            "grid_template_columns": null,
            "grid_template_rows": null,
            "height": null,
            "justify_content": null,
            "justify_items": null,
            "left": null,
            "margin": null,
            "max_height": null,
            "max_width": null,
            "min_height": null,
            "min_width": null,
            "object_fit": null,
            "object_position": null,
            "order": null,
            "overflow": null,
            "overflow_x": null,
            "overflow_y": null,
            "padding": null,
            "right": null,
            "top": null,
            "visibility": null,
            "width": null
          }
        },
        "c74ab391afd8424d9952f9f316e8da9f": {
          "model_module": "@jupyter-widgets/controls",
          "model_name": "DescriptionStyleModel",
          "model_module_version": "1.5.0",
          "state": {
            "_model_module": "@jupyter-widgets/controls",
            "_model_module_version": "1.5.0",
            "_model_name": "DescriptionStyleModel",
            "_view_count": null,
            "_view_module": "@jupyter-widgets/base",
            "_view_module_version": "1.2.0",
            "_view_name": "StyleView",
            "description_width": ""
          }
        },
        "abd99b5fc2554cecb4312928df7eebdc": {
          "model_module": "@jupyter-widgets/controls",
          "model_name": "HBoxModel",
          "model_module_version": "1.5.0",
          "state": {
            "_dom_classes": [],
            "_model_module": "@jupyter-widgets/controls",
            "_model_module_version": "1.5.0",
            "_model_name": "HBoxModel",
            "_view_count": null,
            "_view_module": "@jupyter-widgets/controls",
            "_view_module_version": "1.5.0",
            "_view_name": "HBoxView",
            "box_style": "",
            "children": [
              "IPY_MODEL_bdd87fda9e294b3aa5d549adf24dcb6f",
              "IPY_MODEL_3ccfb21dc1e7453d99326a3029291bf4",
              "IPY_MODEL_bbbfd0a36fcb4b48947c136c342a46d4"
            ],
            "layout": "IPY_MODEL_65275544cf4346ee97bebdd343626cde"
          }
        },
        "bdd87fda9e294b3aa5d549adf24dcb6f": {
          "model_module": "@jupyter-widgets/controls",
          "model_name": "HTMLModel",
          "model_module_version": "1.5.0",
          "state": {
            "_dom_classes": [],
            "_model_module": "@jupyter-widgets/controls",
            "_model_module_version": "1.5.0",
            "_model_name": "HTMLModel",
            "_view_count": null,
            "_view_module": "@jupyter-widgets/controls",
            "_view_module_version": "1.5.0",
            "_view_name": "HTMLView",
            "description": "",
            "description_tooltip": null,
            "layout": "IPY_MODEL_9e3bdc20a05d4de9a1b265d6668d16db",
            "placeholder": "​",
            "style": "IPY_MODEL_1f374a3b6a1c49cfb4ede38758fea8c0",
            "value": "100%"
          }
        },
        "3ccfb21dc1e7453d99326a3029291bf4": {
          "model_module": "@jupyter-widgets/controls",
          "model_name": "FloatProgressModel",
          "model_module_version": "1.5.0",
          "state": {
            "_dom_classes": [],
            "_model_module": "@jupyter-widgets/controls",
            "_model_module_version": "1.5.0",
            "_model_name": "FloatProgressModel",
            "_view_count": null,
            "_view_module": "@jupyter-widgets/controls",
            "_view_module_version": "1.5.0",
            "_view_name": "ProgressView",
            "bar_style": "success",
            "description": "",
            "description_tooltip": null,
            "layout": "IPY_MODEL_bc60eb8d7c0a4e6fb3664595f9a97cf4",
            "max": 4542,
            "min": 0,
            "orientation": "horizontal",
            "style": "IPY_MODEL_a34983bfd51b419589dd2b035ed56406",
            "value": 4542
          }
        },
        "bbbfd0a36fcb4b48947c136c342a46d4": {
          "model_module": "@jupyter-widgets/controls",
          "model_name": "HTMLModel",
          "model_module_version": "1.5.0",
          "state": {
            "_dom_classes": [],
            "_model_module": "@jupyter-widgets/controls",
            "_model_module_version": "1.5.0",
            "_model_name": "HTMLModel",
            "_view_count": null,
            "_view_module": "@jupyter-widgets/controls",
            "_view_module_version": "1.5.0",
            "_view_name": "HTMLView",
            "description": "",
            "description_tooltip": null,
            "layout": "IPY_MODEL_f64b19a52211442d977456e7bc1d3ef5",
            "placeholder": "​",
            "style": "IPY_MODEL_f1bfec7e5c834023b8561d058bdc484f",
            "value": " 4542/4542 [00:00&lt;00:00, 83139.98it/s]"
          }
        },
        "65275544cf4346ee97bebdd343626cde": {
          "model_module": "@jupyter-widgets/base",
          "model_name": "LayoutModel",
          "model_module_version": "1.2.0",
          "state": {
            "_model_module": "@jupyter-widgets/base",
            "_model_module_version": "1.2.0",
            "_model_name": "LayoutModel",
            "_view_count": null,
            "_view_module": "@jupyter-widgets/base",
            "_view_module_version": "1.2.0",
            "_view_name": "LayoutView",
            "align_content": null,
            "align_items": null,
            "align_self": null,
            "border": null,
            "bottom": null,
            "display": null,
            "flex": null,
            "flex_flow": null,
            "grid_area": null,
            "grid_auto_columns": null,
            "grid_auto_flow": null,
            "grid_auto_rows": null,
            "grid_column": null,
            "grid_gap": null,
            "grid_row": null,
            "grid_template_areas": null,
            "grid_template_columns": null,
            "grid_template_rows": null,
            "height": null,
            "justify_content": null,
            "justify_items": null,
            "left": null,
            "margin": null,
            "max_height": null,
            "max_width": null,
            "min_height": null,
            "min_width": null,
            "object_fit": null,
            "object_position": null,
            "order": null,
            "overflow": null,
            "overflow_x": null,
            "overflow_y": null,
            "padding": null,
            "right": null,
            "top": null,
            "visibility": null,
            "width": null
          }
        },
        "9e3bdc20a05d4de9a1b265d6668d16db": {
          "model_module": "@jupyter-widgets/base",
          "model_name": "LayoutModel",
          "model_module_version": "1.2.0",
          "state": {
            "_model_module": "@jupyter-widgets/base",
            "_model_module_version": "1.2.0",
            "_model_name": "LayoutModel",
            "_view_count": null,
            "_view_module": "@jupyter-widgets/base",
            "_view_module_version": "1.2.0",
            "_view_name": "LayoutView",
            "align_content": null,
            "align_items": null,
            "align_self": null,
            "border": null,
            "bottom": null,
            "display": null,
            "flex": null,
            "flex_flow": null,
            "grid_area": null,
            "grid_auto_columns": null,
            "grid_auto_flow": null,
            "grid_auto_rows": null,
            "grid_column": null,
            "grid_gap": null,
            "grid_row": null,
            "grid_template_areas": null,
            "grid_template_columns": null,
            "grid_template_rows": null,
            "height": null,
            "justify_content": null,
            "justify_items": null,
            "left": null,
            "margin": null,
            "max_height": null,
            "max_width": null,
            "min_height": null,
            "min_width": null,
            "object_fit": null,
            "object_position": null,
            "order": null,
            "overflow": null,
            "overflow_x": null,
            "overflow_y": null,
            "padding": null,
            "right": null,
            "top": null,
            "visibility": null,
            "width": null
          }
        },
        "1f374a3b6a1c49cfb4ede38758fea8c0": {
          "model_module": "@jupyter-widgets/controls",
          "model_name": "DescriptionStyleModel",
          "model_module_version": "1.5.0",
          "state": {
            "_model_module": "@jupyter-widgets/controls",
            "_model_module_version": "1.5.0",
            "_model_name": "DescriptionStyleModel",
            "_view_count": null,
            "_view_module": "@jupyter-widgets/base",
            "_view_module_version": "1.2.0",
            "_view_name": "StyleView",
            "description_width": ""
          }
        },
        "bc60eb8d7c0a4e6fb3664595f9a97cf4": {
          "model_module": "@jupyter-widgets/base",
          "model_name": "LayoutModel",
          "model_module_version": "1.2.0",
          "state": {
            "_model_module": "@jupyter-widgets/base",
            "_model_module_version": "1.2.0",
            "_model_name": "LayoutModel",
            "_view_count": null,
            "_view_module": "@jupyter-widgets/base",
            "_view_module_version": "1.2.0",
            "_view_name": "LayoutView",
            "align_content": null,
            "align_items": null,
            "align_self": null,
            "border": null,
            "bottom": null,
            "display": null,
            "flex": null,
            "flex_flow": null,
            "grid_area": null,
            "grid_auto_columns": null,
            "grid_auto_flow": null,
            "grid_auto_rows": null,
            "grid_column": null,
            "grid_gap": null,
            "grid_row": null,
            "grid_template_areas": null,
            "grid_template_columns": null,
            "grid_template_rows": null,
            "height": null,
            "justify_content": null,
            "justify_items": null,
            "left": null,
            "margin": null,
            "max_height": null,
            "max_width": null,
            "min_height": null,
            "min_width": null,
            "object_fit": null,
            "object_position": null,
            "order": null,
            "overflow": null,
            "overflow_x": null,
            "overflow_y": null,
            "padding": null,
            "right": null,
            "top": null,
            "visibility": null,
            "width": null
          }
        },
        "a34983bfd51b419589dd2b035ed56406": {
          "model_module": "@jupyter-widgets/controls",
          "model_name": "ProgressStyleModel",
          "model_module_version": "1.5.0",
          "state": {
            "_model_module": "@jupyter-widgets/controls",
            "_model_module_version": "1.5.0",
            "_model_name": "ProgressStyleModel",
            "_view_count": null,
            "_view_module": "@jupyter-widgets/base",
            "_view_module_version": "1.2.0",
            "_view_name": "StyleView",
            "bar_color": null,
            "description_width": ""
          }
        },
        "f64b19a52211442d977456e7bc1d3ef5": {
          "model_module": "@jupyter-widgets/base",
          "model_name": "LayoutModel",
          "model_module_version": "1.2.0",
          "state": {
            "_model_module": "@jupyter-widgets/base",
            "_model_module_version": "1.2.0",
            "_model_name": "LayoutModel",
            "_view_count": null,
            "_view_module": "@jupyter-widgets/base",
            "_view_module_version": "1.2.0",
            "_view_name": "LayoutView",
            "align_content": null,
            "align_items": null,
            "align_self": null,
            "border": null,
            "bottom": null,
            "display": null,
            "flex": null,
            "flex_flow": null,
            "grid_area": null,
            "grid_auto_columns": null,
            "grid_auto_flow": null,
            "grid_auto_rows": null,
            "grid_column": null,
            "grid_gap": null,
            "grid_row": null,
            "grid_template_areas": null,
            "grid_template_columns": null,
            "grid_template_rows": null,
            "height": null,
            "justify_content": null,
            "justify_items": null,
            "left": null,
            "margin": null,
            "max_height": null,
            "max_width": null,
            "min_height": null,
            "min_width": null,
            "object_fit": null,
            "object_position": null,
            "order": null,
            "overflow": null,
            "overflow_x": null,
            "overflow_y": null,
            "padding": null,
            "right": null,
            "top": null,
            "visibility": null,
            "width": null
          }
        },
        "f1bfec7e5c834023b8561d058bdc484f": {
          "model_module": "@jupyter-widgets/controls",
          "model_name": "DescriptionStyleModel",
          "model_module_version": "1.5.0",
          "state": {
            "_model_module": "@jupyter-widgets/controls",
            "_model_module_version": "1.5.0",
            "_model_name": "DescriptionStyleModel",
            "_view_count": null,
            "_view_module": "@jupyter-widgets/base",
            "_view_module_version": "1.2.0",
            "_view_name": "StyleView",
            "description_width": ""
          }
        }
      }
    }
  },
  "cells": [
    {
      "cell_type": "markdown",
      "metadata": {
        "id": "P8tDK5A9OCM7"
      },
      "source": [
        "## Домашняя работа №1 Part1\n",
        "Вам предстоит:\n",
        "\n",
        "Написать персептрон с двумя слоями. Реализовать форвард и бэквард пропогейшен\n",
        "\n"
      ]
    },
    {
      "cell_type": "code",
      "metadata": {
        "id": "c5IbKpsMN_F1"
      },
      "source": [
        "import numpy as np\n",
        "from sklearn.metrics import classification_report\n",
        "import torch\n",
        "from torch.utils.data import DataLoader\n",
        "from torchvision.datasets import MNIST\n",
        "from torchvision import transforms\n",
        "import matplotlib.pyplot as plt\n",
        "from tqdm import tqdm\n",
        "from sklearn.metrics import accuracy_score\n",
        "import time"
      ],
      "execution_count": null,
      "outputs": []
    },
    {
      "cell_type": "markdown",
      "metadata": {
        "id": "zQRYevLNN_GA"
      },
      "source": [
        "# Датасет\n",
        "Загрузим Мнист. Почему именно он? Мы будем решать задачу бинарной классификации на паре цифр: 3 и 7. Плюсы в том, что примеров для этих чисел достаточно, чтобы обучить НС, у каждого примера не так много фичей (28Х28 - размерность картинок) и, в целом, эти классы хорошо отделяются. Я б с радостью показал вам пример с текстами, но если писать НС с нуля и пытаться обучаться на текстах, не факт, что у нас хоть что то обучится :(  \n",
        "  "
      ]
    },
    {
      "cell_type": "markdown",
      "metadata": {
        "id": "EtMN4ZlSN_GC"
      },
      "source": [
        "Торч - объект, который позволяет нормализовать картинки, можно думать о нем как о предобработке (регулярках) для текстов. В целом не стоит здесь долго думать"
      ]
    },
    {
      "cell_type": "code",
      "metadata": {
        "id": "BMugicmkN_GE"
      },
      "source": [
        "transform = transforms.Compose([\n",
        "    transforms.ToTensor(),\n",
        "    transforms.Normalize((0.1307,), (0.3081,))\n",
        "])"
      ],
      "execution_count": null,
      "outputs": []
    },
    {
      "cell_type": "markdown",
      "metadata": {
        "id": "actIVoMKN_GJ"
      },
      "source": [
        "Загружаем датасет. Возращается особенный торчовый класс, чуть ниже мы зададим его сами и научимся им полльзоваться, пока оставляем эз из.\n"
      ]
    },
    {
      "cell_type": "code",
      "metadata": {
        "id": "fQpJqIWrN_GK",
        "outputId": "1de04ed1-7d56-4722-89f5-cedb2d178802",
        "colab": {
          "base_uri": "https://localhost:8080/",
          "height": 423,
          "referenced_widgets": [
            "29e6fecba3864802b9078ea58e695d84",
            "e32fae5d650a49dab1fb88341c2f7225",
            "25c19cbea0244332a69ff554fead9cdd",
            "fad8fe7bf3a84da3916b931ce0efdfc9",
            "c768c9cbaef04b94b46254b4563762c3",
            "410e76d93feb42b4a432f276422c43dc",
            "a524ad2abbdf47c7b588ac21be79b05f",
            "f1bce5038e5a4eacb6a0a68bd632f017",
            "665eb012b63d47ca83cce6e3fc9ae5bb",
            "d637845d19e14765ab9047bd9f67ece1",
            "f1d512dfc5cb44719fca7b321076d339",
            "c83a6a73c3b94d3f985122dd178dfe78",
            "d8b856a5d26448d5b9115d69eaf94cd1",
            "b1f1dee607a14b9fb5327f1726e8d9cb",
            "dba332381e644a8d9a875c0c31c4b48e",
            "7bad9782f8f54c38bbce93810116a181",
            "ef5abdfb2eac48d78ea9f555c1126728",
            "eec9022a946d4fb3b7728021003e1b10",
            "201ad54284d74317be504bbc25b0a534",
            "57b92a384a52489ea33d65d0b6d87b42",
            "0c10b3ff30084436a1f7e6c8ed442f56",
            "ba18ec2651d548c8be728798cfece844",
            "d8815819aaf247cbb75600a97f372fa5",
            "a4f7528375524c95a6dfa219752b6e5f",
            "eff97ad9ba164f0d8dd870b71159dab2",
            "7a0fff1649f244d8ab460b838ec6e7df",
            "543795c226914bd79d79114e2af4b3be",
            "76821beaaf664bf6ba1a55515951f5a4",
            "2c2c73cdfb7a427fb8c9b1ee35af2d99",
            "c039bf2729bb40f8a1b0f646924880e6",
            "d6d0363799c844508dbebf2e8a1c9f53",
            "7a35e1ce3f144de791a1f441d460bca4",
            "c74ab391afd8424d9952f9f316e8da9f",
            "abd99b5fc2554cecb4312928df7eebdc",
            "bdd87fda9e294b3aa5d549adf24dcb6f",
            "3ccfb21dc1e7453d99326a3029291bf4",
            "bbbfd0a36fcb4b48947c136c342a46d4",
            "65275544cf4346ee97bebdd343626cde",
            "9e3bdc20a05d4de9a1b265d6668d16db",
            "1f374a3b6a1c49cfb4ede38758fea8c0",
            "bc60eb8d7c0a4e6fb3664595f9a97cf4",
            "a34983bfd51b419589dd2b035ed56406",
            "f64b19a52211442d977456e7bc1d3ef5",
            "f1bfec7e5c834023b8561d058bdc484f"
          ]
        }
      },
      "source": [
        "train_dataset = MNIST('.', train=True, download=True, transform=transform)\n",
        "test_dataset = MNIST('.', train=False, transform=transform)"
      ],
      "execution_count": null,
      "outputs": [
        {
          "output_type": "stream",
          "name": "stdout",
          "text": [
            "Downloading http://yann.lecun.com/exdb/mnist/train-images-idx3-ubyte.gz\n",
            "Downloading http://yann.lecun.com/exdb/mnist/train-images-idx3-ubyte.gz to ./MNIST/raw/train-images-idx3-ubyte.gz\n"
          ]
        },
        {
          "output_type": "display_data",
          "data": {
            "text/plain": [
              "  0%|          | 0/9912422 [00:00<?, ?it/s]"
            ],
            "application/vnd.jupyter.widget-view+json": {
              "version_major": 2,
              "version_minor": 0,
              "model_id": "29e6fecba3864802b9078ea58e695d84"
            }
          },
          "metadata": {}
        },
        {
          "output_type": "stream",
          "name": "stdout",
          "text": [
            "Extracting ./MNIST/raw/train-images-idx3-ubyte.gz to ./MNIST/raw\n",
            "\n",
            "Downloading http://yann.lecun.com/exdb/mnist/train-labels-idx1-ubyte.gz\n",
            "Downloading http://yann.lecun.com/exdb/mnist/train-labels-idx1-ubyte.gz to ./MNIST/raw/train-labels-idx1-ubyte.gz\n"
          ]
        },
        {
          "output_type": "display_data",
          "data": {
            "text/plain": [
              "  0%|          | 0/28881 [00:00<?, ?it/s]"
            ],
            "application/vnd.jupyter.widget-view+json": {
              "version_major": 2,
              "version_minor": 0,
              "model_id": "c83a6a73c3b94d3f985122dd178dfe78"
            }
          },
          "metadata": {}
        },
        {
          "output_type": "stream",
          "name": "stdout",
          "text": [
            "Extracting ./MNIST/raw/train-labels-idx1-ubyte.gz to ./MNIST/raw\n",
            "\n",
            "Downloading http://yann.lecun.com/exdb/mnist/t10k-images-idx3-ubyte.gz\n",
            "Downloading http://yann.lecun.com/exdb/mnist/t10k-images-idx3-ubyte.gz to ./MNIST/raw/t10k-images-idx3-ubyte.gz\n"
          ]
        },
        {
          "output_type": "display_data",
          "data": {
            "text/plain": [
              "  0%|          | 0/1648877 [00:00<?, ?it/s]"
            ],
            "application/vnd.jupyter.widget-view+json": {
              "version_major": 2,
              "version_minor": 0,
              "model_id": "d8815819aaf247cbb75600a97f372fa5"
            }
          },
          "metadata": {}
        },
        {
          "output_type": "stream",
          "name": "stdout",
          "text": [
            "Extracting ./MNIST/raw/t10k-images-idx3-ubyte.gz to ./MNIST/raw\n",
            "\n",
            "Downloading http://yann.lecun.com/exdb/mnist/t10k-labels-idx1-ubyte.gz\n",
            "Downloading http://yann.lecun.com/exdb/mnist/t10k-labels-idx1-ubyte.gz to ./MNIST/raw/t10k-labels-idx1-ubyte.gz\n"
          ]
        },
        {
          "output_type": "display_data",
          "data": {
            "text/plain": [
              "  0%|          | 0/4542 [00:00<?, ?it/s]"
            ],
            "application/vnd.jupyter.widget-view+json": {
              "version_major": 2,
              "version_minor": 0,
              "model_id": "abd99b5fc2554cecb4312928df7eebdc"
            }
          },
          "metadata": {}
        },
        {
          "output_type": "stream",
          "name": "stdout",
          "text": [
            "Extracting ./MNIST/raw/t10k-labels-idx1-ubyte.gz to ./MNIST/raw\n",
            "\n"
          ]
        }
      ]
    },
    {
      "cell_type": "markdown",
      "metadata": {
        "id": "aUSUIJbUN_GQ"
      },
      "source": [
        "Выбираем два класса. Если вы достаточно хорошо знакомы с пандас, то можно понять, что никакой магии здесь нет."
      ]
    },
    {
      "cell_type": "code",
      "metadata": {
        "id": "vx73oHg9N_GS"
      },
      "source": [
        "#фильтруем фичи (дата) по значению классификационных лэйблов (таргет), берем или цифру 3 или цифру 7\n",
        "train_dataset.data = train_dataset.data[(train_dataset.targets == 3) | (train_dataset.targets == 7)]\n",
        "train_dataset.targets = train_dataset.targets[(train_dataset.targets == 3) | (train_dataset.targets == 7)]\n",
        "#тоже самое для тестового набора\n",
        "test_dataset.data = test_dataset.data[(test_dataset.targets == 3) | (test_dataset.targets == 7)]\n",
        "test_dataset.targets = test_dataset.targets[(test_dataset.targets == 3) | (test_dataset.targets == 7)]\n",
        "#необходимы препроцессинг лейблов, видимо не все значения имею тип integer, а нам нужен именно этот тип функция лонг позволяет нам \n",
        "#        это сделать (self.long() is equivalent to self.to(torch.int64). See to())\n",
        "train_dataset.targets = (train_dataset.targets == 7).long()\n",
        "test_dataset.targets = (test_dataset.targets == 7).long()"
      ],
      "execution_count": null,
      "outputs": []
    },
    {
      "cell_type": "markdown",
      "metadata": {
        "id": "RHelnPG0N_GX"
      },
      "source": [
        "Мы неоднократно говорили, что НС обычно тренируются бачами, в торче есть удобный класс, который позволяет обернуть наши датасеты в итерируемый объект. Если не знаете что такое итерируемый объект, погуглите :) можно думать об этом как о списке с составными элементами (элемент - батч - набор примеров) "
      ]
    },
    {
      "cell_type": "code",
      "metadata": {
        "id": "ENLomAueN_GZ"
      },
      "source": [
        "train_loader = DataLoader(train_dataset, batch_size=128, shuffle=True)\n",
        "test_loader = DataLoader(test_dataset, batch_size=128, shuffle=False)"
      ],
      "execution_count": null,
      "outputs": []
    },
    {
      "cell_type": "code",
      "metadata": {
        "id": "rdvq5scBXtWY",
        "outputId": "92b6c2c2-65eb-4330-f946-c987d4cf7f91",
        "colab": {
          "base_uri": "https://localhost:8080/"
        }
      },
      "source": [
        "X, y = next(iter(train_loader)) #next(iter(x) - Возвращает следующий элемент итератора.\n",
        "X"
      ],
      "execution_count": null,
      "outputs": [
        {
          "output_type": "execute_result",
          "data": {
            "text/plain": [
              "tensor([[[[-0.4242, -0.4242, -0.4242,  ..., -0.4242, -0.4242, -0.4242],\n",
              "          [-0.4242, -0.4242, -0.4242,  ..., -0.4242, -0.4242, -0.4242],\n",
              "          [-0.4242, -0.4242, -0.4242,  ..., -0.4242, -0.4242, -0.4242],\n",
              "          ...,\n",
              "          [-0.4242, -0.4242, -0.4242,  ..., -0.4242, -0.4242, -0.4242],\n",
              "          [-0.4242, -0.4242, -0.4242,  ..., -0.4242, -0.4242, -0.4242],\n",
              "          [-0.4242, -0.4242, -0.4242,  ..., -0.4242, -0.4242, -0.4242]]],\n",
              "\n",
              "\n",
              "        [[[-0.4242, -0.4242, -0.4242,  ..., -0.4242, -0.4242, -0.4242],\n",
              "          [-0.4242, -0.4242, -0.4242,  ..., -0.4242, -0.4242, -0.4242],\n",
              "          [-0.4242, -0.4242, -0.4242,  ..., -0.4242, -0.4242, -0.4242],\n",
              "          ...,\n",
              "          [-0.4242, -0.4242, -0.4242,  ..., -0.4242, -0.4242, -0.4242],\n",
              "          [-0.4242, -0.4242, -0.4242,  ..., -0.4242, -0.4242, -0.4242],\n",
              "          [-0.4242, -0.4242, -0.4242,  ..., -0.4242, -0.4242, -0.4242]]],\n",
              "\n",
              "\n",
              "        [[[-0.4242, -0.4242, -0.4242,  ..., -0.4242, -0.4242, -0.4242],\n",
              "          [-0.4242, -0.4242, -0.4242,  ..., -0.4242, -0.4242, -0.4242],\n",
              "          [-0.4242, -0.4242, -0.4242,  ..., -0.4242, -0.4242, -0.4242],\n",
              "          ...,\n",
              "          [-0.4242, -0.4242, -0.4242,  ..., -0.4242, -0.4242, -0.4242],\n",
              "          [-0.4242, -0.4242, -0.4242,  ..., -0.4242, -0.4242, -0.4242],\n",
              "          [-0.4242, -0.4242, -0.4242,  ..., -0.4242, -0.4242, -0.4242]]],\n",
              "\n",
              "\n",
              "        ...,\n",
              "\n",
              "\n",
              "        [[[-0.4242, -0.4242, -0.4242,  ..., -0.4242, -0.4242, -0.4242],\n",
              "          [-0.4242, -0.4242, -0.4242,  ..., -0.4242, -0.4242, -0.4242],\n",
              "          [-0.4242, -0.4242, -0.4242,  ..., -0.4242, -0.4242, -0.4242],\n",
              "          ...,\n",
              "          [-0.4242, -0.4242, -0.4242,  ..., -0.4242, -0.4242, -0.4242],\n",
              "          [-0.4242, -0.4242, -0.4242,  ..., -0.4242, -0.4242, -0.4242],\n",
              "          [-0.4242, -0.4242, -0.4242,  ..., -0.4242, -0.4242, -0.4242]]],\n",
              "\n",
              "\n",
              "        [[[-0.4242, -0.4242, -0.4242,  ..., -0.4242, -0.4242, -0.4242],\n",
              "          [-0.4242, -0.4242, -0.4242,  ..., -0.4242, -0.4242, -0.4242],\n",
              "          [-0.4242, -0.4242, -0.4242,  ..., -0.4242, -0.4242, -0.4242],\n",
              "          ...,\n",
              "          [-0.4242, -0.4242, -0.4242,  ..., -0.4242, -0.4242, -0.4242],\n",
              "          [-0.4242, -0.4242, -0.4242,  ..., -0.4242, -0.4242, -0.4242],\n",
              "          [-0.4242, -0.4242, -0.4242,  ..., -0.4242, -0.4242, -0.4242]]],\n",
              "\n",
              "\n",
              "        [[[-0.4242, -0.4242, -0.4242,  ..., -0.4242, -0.4242, -0.4242],\n",
              "          [-0.4242, -0.4242, -0.4242,  ..., -0.4242, -0.4242, -0.4242],\n",
              "          [-0.4242, -0.4242, -0.4242,  ..., -0.4242, -0.4242, -0.4242],\n",
              "          ...,\n",
              "          [-0.4242, -0.4242, -0.4242,  ..., -0.4242, -0.4242, -0.4242],\n",
              "          [-0.4242, -0.4242, -0.4242,  ..., -0.4242, -0.4242, -0.4242],\n",
              "          [-0.4242, -0.4242, -0.4242,  ..., -0.4242, -0.4242, -0.4242]]]])"
            ]
          },
          "metadata": {},
          "execution_count": 8
        }
      ]
    },
    {
      "cell_type": "code",
      "metadata": {
        "id": "SAaI0uHWYUrb",
        "outputId": "2d090ca0-70ea-4ec1-cea6-ff5b6cbdee83",
        "colab": {
          "base_uri": "https://localhost:8080/"
        }
      },
      "source": [
        "y"
      ],
      "execution_count": null,
      "outputs": [
        {
          "output_type": "execute_result",
          "data": {
            "text/plain": [
              "tensor([1, 1, 1, 0, 1, 0, 0, 1, 1, 1, 1, 0, 1, 1, 0, 1, 1, 1, 0, 1, 0, 1, 0, 1,\n",
              "        1, 1, 1, 1, 0, 0, 1, 0, 1, 1, 0, 0, 1, 0, 1, 0, 0, 0, 1, 1, 0, 0, 0, 1,\n",
              "        1, 0, 1, 0, 1, 0, 0, 0, 0, 0, 0, 1, 0, 1, 0, 0, 0, 0, 0, 0, 1, 0, 1, 0,\n",
              "        1, 1, 0, 1, 0, 1, 0, 1, 0, 0, 0, 0, 0, 1, 0, 0, 0, 0, 1, 1, 0, 1, 1, 0,\n",
              "        0, 0, 1, 0, 0, 0, 0, 1, 0, 0, 1, 1, 0, 1, 0, 0, 1, 1, 0, 1, 1, 1, 1, 1,\n",
              "        1, 1, 0, 0, 1, 1, 0, 1])"
            ]
          },
          "metadata": {},
          "execution_count": 9
        }
      ]
    },
    {
      "cell_type": "markdown",
      "metadata": {
        "id": "KPw6jv5hYXhV"
      },
      "source": [
        "Никакой магии, просто многомерные матрицы. Можно даже проверить, что то, что мы получили, то есть первый батч имееет правильную размерность.В y - 1 это класс цифры \"7\", 0 - \"3\""
      ]
    },
    {
      "cell_type": "code",
      "metadata": {
        "id": "mQH1_6dSYlnW",
        "outputId": "8a45ab31-152e-4657-b772-0ae28b4b3636",
        "colab": {
          "base_uri": "https://localhost:8080/"
        }
      },
      "source": [
        "X.shape #128 - примеров, [1, 28, 28] - размерность картинки, 1 - значит что из трех каналов (Р, Г, Б) у нас всего один, а сама картинка 28 на 28"
      ],
      "execution_count": null,
      "outputs": [
        {
          "output_type": "execute_result",
          "data": {
            "text/plain": [
              "torch.Size([128, 1, 28, 28])"
            ]
          },
          "metadata": {},
          "execution_count": 10
        }
      ]
    },
    {
      "cell_type": "code",
      "metadata": {
        "id": "yGAYt4oqYpW5",
        "outputId": "2e18c44d-8a8e-47b4-814b-acffff18181b",
        "colab": {
          "base_uri": "https://localhost:8080/"
        }
      },
      "source": [
        "y.shape"
      ],
      "execution_count": null,
      "outputs": [
        {
          "output_type": "execute_result",
          "data": {
            "text/plain": [
              "torch.Size([128])"
            ]
          },
          "metadata": {},
          "execution_count": 11
        }
      ]
    },
    {
      "cell_type": "markdown",
      "metadata": {
        "id": "CNVEJYNXN_Gd"
      },
      "source": [
        "Проверим, правда ли это картинки"
      ]
    },
    {
      "cell_type": "code",
      "metadata": {
        "id": "-Kkv2jAKN_Ge",
        "outputId": "549ad12d-dcb3-40d9-82e3-074d44b536cf",
        "colab": {
          "base_uri": "https://localhost:8080/",
          "height": 420
        }
      },
      "source": [
        "X, y = next(iter(train_loader))\n",
        "X = X.numpy() # перевод тензора в массив нумпай, просто изменение типа данных \n",
        "y = y.numpy()\n",
        "\n",
        "plt.figure(figsize=(6, 7))\n",
        "for i in range(25):\n",
        "    plt.subplot(5, 5, i+1)\n",
        "    plt.imshow(X[i].reshape(28, 28), cmap=plt.cm.Greys_r)\n",
        "    plt.title(y[i])\n",
        "    plt.axis('off')"
      ],
      "execution_count": null,
      "outputs": [
        {
          "output_type": "display_data",
          "data": {
            "text/plain": [
              "<Figure size 432x504 with 25 Axes>"
            ],
            "image/png": "[encoded data removed]"
          },
          "metadata": {
            "needs_background": "light"
          }
        }
      ]
    },
    {
      "cell_type": "markdown",
      "metadata": {
        "id": "jL6Cd-7tb29_"
      },
      "source": [
        "Нам столько размерностей не нужно, поэтому давайте выпрямим матрицу, тем боле мы знаем что значение каждого пикселя независимо друг друга."
      ]
    },
    {
      "cell_type": "code",
      "metadata": {
        "id": "tDiEEUYJN_G6",
        "outputId": "f5897ef6-fb8b-4dfb-af85-141537353260",
        "colab": {
          "base_uri": "https://localhost:8080/"
        }
      },
      "source": [
        "X, y = next(iter(train_loader))\n",
        "X = X.view(X.shape[0], -1)\n",
        "X.shape"
      ],
      "execution_count": null,
      "outputs": [
        {
          "output_type": "execute_result",
          "data": {
            "text/plain": [
              "torch.Size([128, 784])"
            ]
          },
          "metadata": {},
          "execution_count": 13
        }
      ]
    },
    {
      "cell_type": "markdown",
      "metadata": {
        "id": "6_m0y3z9N_HN"
      },
      "source": [
        " Размерность\n",
        "- количество примеров в батче\n",
        "- количество фичей"
      ]
    },
    {
      "cell_type": "code",
      "metadata": {
        "id": "0rRs_fibN_HX",
        "outputId": "b784983d-6c5c-47c0-e855-5b3e0cec1f77",
        "colab": {
          "base_uri": "https://localhost:8080/"
        }
      },
      "source": [
        "y"
      ],
      "execution_count": null,
      "outputs": [
        {
          "output_type": "execute_result",
          "data": {
            "text/plain": [
              "tensor([0, 1, 0, 0, 0, 1, 0, 0, 0, 1, 0, 0, 1, 0, 0, 0, 0, 1, 0, 0, 1, 1, 1, 1,\n",
              "        0, 1, 0, 1, 1, 1, 1, 1, 0, 1, 0, 1, 0, 1, 1, 1, 0, 1, 0, 0, 0, 0, 0, 1,\n",
              "        0, 0, 0, 1, 1, 1, 1, 0, 0, 0, 1, 0, 1, 0, 0, 0, 1, 0, 1, 1, 0, 0, 0, 0,\n",
              "        0, 1, 1, 1, 1, 1, 0, 1, 0, 1, 0, 0, 0, 0, 0, 0, 0, 1, 0, 0, 0, 1, 0, 0,\n",
              "        1, 1, 1, 0, 0, 0, 1, 0, 1, 1, 0, 1, 0, 1, 1, 1, 1, 0, 1, 1, 1, 1, 1, 1,\n",
              "        1, 0, 0, 1, 1, 1, 0, 0])"
            ]
          },
          "metadata": {},
          "execution_count": 14
        }
      ]
    },
    {
      "cell_type": "markdown",
      "metadata": {
        "id": "Z4vTsvPZdPQg"
      },
      "source": [
        "Такой У нам не совсем подходит. Сейчас объясню почему. Размерность Х (128,784) матрично перемножим на скрытый слой (784,1) и получится (128,1). Нужно понимать, что размерность (128,) и (128,1) это немного разные вещи  "
      ]
    },
    {
      "cell_type": "code",
      "metadata": {
        "id": "98g7689ON_Hc",
        "outputId": "e522285d-6cc1-4f52-a72d-3726317da3e2",
        "colab": {
          "base_uri": "https://localhost:8080/"
        }
      },
      "source": [
        "w = torch.rand(784, 1) #Рандомные необученые веса\n",
        "pred = X.matmul(w)\n",
        "pred.shape"
      ],
      "execution_count": null,
      "outputs": [
        {
          "output_type": "execute_result",
          "data": {
            "text/plain": [
              "torch.Size([128, 1])"
            ]
          },
          "metadata": {},
          "execution_count": 15
        }
      ]
    },
    {
      "cell_type": "code",
      "metadata": {
        "id": "KG9L5xtJd9TQ",
        "outputId": "c45de554-152c-4af4-ee96-48d16b522651",
        "colab": {
          "base_uri": "https://localhost:8080/"
        }
      },
      "source": [
        "pred"
      ],
      "execution_count": null,
      "outputs": [
        {
          "output_type": "execute_result",
          "data": {
            "text/plain": [
              "tensor([[ 29.7702],\n",
              "        [-78.6063],\n",
              "        [ -7.5828],\n",
              "        [  7.9992],\n",
              "        [ 34.6369],\n",
              "        [ 39.7378],\n",
              "        [-31.1387],\n",
              "        [ 12.1644],\n",
              "        [ 32.5944],\n",
              "        [-73.5697],\n",
              "        [ 30.4747],\n",
              "        [ 18.1249],\n",
              "        [-40.4699],\n",
              "        [  2.1376],\n",
              "        [  7.1393],\n",
              "        [-43.1841],\n",
              "        [ 69.6752],\n",
              "        [-51.4430],\n",
              "        [122.3584],\n",
              "        [ 56.6450],\n",
              "        [-30.4075],\n",
              "        [ 55.3610],\n",
              "        [-10.2187],\n",
              "        [-10.6659],\n",
              "        [ 99.5532],\n",
              "        [-69.9948],\n",
              "        [-31.3750],\n",
              "        [ 15.5707],\n",
              "        [-25.4869],\n",
              "        [-76.7198],\n",
              "        [-52.8215],\n",
              "        [-14.2216],\n",
              "        [ 32.5059],\n",
              "        [-13.3438],\n",
              "        [-21.9096],\n",
              "        [ 61.1482],\n",
              "        [139.0860],\n",
              "        [-47.9630],\n",
              "        [ 11.3734],\n",
              "        [-55.8022],\n",
              "        [-16.8930],\n",
              "        [ -8.3827],\n",
              "        [ 14.2712],\n",
              "        [ -2.1931],\n",
              "        [ 41.9118],\n",
              "        [-35.4829],\n",
              "        [  2.4156],\n",
              "        [ 39.9839],\n",
              "        [  6.0121],\n",
              "        [ -9.3485],\n",
              "        [ 84.7242],\n",
              "        [ 94.9583],\n",
              "        [ 14.4728],\n",
              "        [-36.6160],\n",
              "        [ 27.2520],\n",
              "        [ 22.0975],\n",
              "        [-10.9264],\n",
              "        [-15.2425],\n",
              "        [-31.1168],\n",
              "        [  1.9994],\n",
              "        [-40.9227],\n",
              "        [ 10.1915],\n",
              "        [ 42.0316],\n",
              "        [ 22.7575],\n",
              "        [-44.0532],\n",
              "        [ 14.8212],\n",
              "        [ 36.2321],\n",
              "        [-75.7445],\n",
              "        [-21.9638],\n",
              "        [-41.3174],\n",
              "        [-35.9450],\n",
              "        [  2.7489],\n",
              "        [-36.2008],\n",
              "        [-73.1549],\n",
              "        [-48.6232],\n",
              "        [-35.6779],\n",
              "        [ -1.8476],\n",
              "        [-13.9025],\n",
              "        [ -1.0041],\n",
              "        [-47.7437],\n",
              "        [ 38.7144],\n",
              "        [-40.2829],\n",
              "        [-86.8433],\n",
              "        [ 16.6694],\n",
              "        [-89.0505],\n",
              "        [ 30.0900],\n",
              "        [-41.9918],\n",
              "        [ -2.2606],\n",
              "        [ 11.5977],\n",
              "        [  6.0232],\n",
              "        [  3.5449],\n",
              "        [ -6.0389],\n",
              "        [ 46.4119],\n",
              "        [ 21.4208],\n",
              "        [ 11.6601],\n",
              "        [-26.4895],\n",
              "        [-67.7260],\n",
              "        [ 21.3214],\n",
              "        [-58.2876],\n",
              "        [ 11.4869],\n",
              "        [ 15.9248],\n",
              "        [-36.8207],\n",
              "        [-38.1190],\n",
              "        [ 11.3565],\n",
              "        [-28.7346],\n",
              "        [-91.3472],\n",
              "        [-58.4909],\n",
              "        [-58.4567],\n",
              "        [ 22.9946],\n",
              "        [ -0.8223],\n",
              "        [-38.7211],\n",
              "        [-45.2519],\n",
              "        [-52.1911],\n",
              "        [ -7.9869],\n",
              "        [-79.3850],\n",
              "        [-58.9171],\n",
              "        [-99.9739],\n",
              "        [-70.9356],\n",
              "        [-40.6854],\n",
              "        [ 37.5024],\n",
              "        [ 87.2117],\n",
              "        [ 13.1068],\n",
              "        [  4.1994],\n",
              "        [-57.0161],\n",
              "        [ 33.0860],\n",
              "        [-20.5366],\n",
              "        [-31.4187],\n",
              "        [-11.1959]])"
            ]
          },
          "metadata": {},
          "execution_count": 16
        }
      ]
    },
    {
      "cell_type": "markdown",
      "metadata": {
        "id": "Rb1hswcGeEpc"
      },
      "source": [
        "Теперь у нас есть предсказания и их размерность (128,1). Нужно будет счтить лосс с у, поэтому приведем его к такой же размерности с expand_dims - это функция есть в нумпае, также есть и в торче"
      ]
    },
    {
      "cell_type": "code",
      "metadata": {
        "id": "wAIFQMfwN_Hl"
      },
      "source": [
        "y = np.expand_dims(y, 1)"
      ],
      "execution_count": null,
      "outputs": []
    },
    {
      "cell_type": "code",
      "metadata": {
        "id": "SrlrvUq7N_Hw",
        "outputId": "8d6c5e0f-a50f-4037-95e1-543fd9130476",
        "colab": {
          "base_uri": "https://localhost:8080/"
        }
      },
      "source": [
        "y"
      ],
      "execution_count": null,
      "outputs": [
        {
          "output_type": "execute_result",
          "data": {
            "text/plain": [
              "array([[0],\n",
              "       [1],\n",
              "       [1],\n",
              "       [1],\n",
              "       [0],\n",
              "       [0],\n",
              "       [0],\n",
              "       [0],\n",
              "       [0],\n",
              "       [0],\n",
              "       [1],\n",
              "       [0],\n",
              "       [1],\n",
              "       [0],\n",
              "       [0],\n",
              "       [0],\n",
              "       [1],\n",
              "       [0],\n",
              "       [0],\n",
              "       [1],\n",
              "       [1],\n",
              "       [0],\n",
              "       [0],\n",
              "       [0],\n",
              "       [0],\n",
              "       [1],\n",
              "       [1],\n",
              "       [0],\n",
              "       [1],\n",
              "       [0],\n",
              "       [0],\n",
              "       [1],\n",
              "       [0],\n",
              "       [1],\n",
              "       [0],\n",
              "       [1],\n",
              "       [1],\n",
              "       [1],\n",
              "       [0],\n",
              "       [1],\n",
              "       [1],\n",
              "       [0],\n",
              "       [0],\n",
              "       [1],\n",
              "       [1],\n",
              "       [0],\n",
              "       [0],\n",
              "       [0],\n",
              "       [0],\n",
              "       [0],\n",
              "       [0],\n",
              "       [0],\n",
              "       [1],\n",
              "       [0],\n",
              "       [1],\n",
              "       [0],\n",
              "       [1],\n",
              "       [0],\n",
              "       [0],\n",
              "       [1],\n",
              "       [0],\n",
              "       [1],\n",
              "       [0],\n",
              "       [0],\n",
              "       [0],\n",
              "       [0],\n",
              "       [0],\n",
              "       [1],\n",
              "       [0],\n",
              "       [1],\n",
              "       [0],\n",
              "       [1],\n",
              "       [1],\n",
              "       [0],\n",
              "       [0],\n",
              "       [1],\n",
              "       [1],\n",
              "       [0],\n",
              "       [1],\n",
              "       [0],\n",
              "       [1],\n",
              "       [1],\n",
              "       [1],\n",
              "       [0],\n",
              "       [1],\n",
              "       [1],\n",
              "       [0],\n",
              "       [0],\n",
              "       [1],\n",
              "       [0],\n",
              "       [0],\n",
              "       [0],\n",
              "       [0],\n",
              "       [1],\n",
              "       [1],\n",
              "       [0],\n",
              "       [0],\n",
              "       [0],\n",
              "       [1],\n",
              "       [1],\n",
              "       [0],\n",
              "       [1],\n",
              "       [1],\n",
              "       [0],\n",
              "       [0],\n",
              "       [0],\n",
              "       [0],\n",
              "       [1],\n",
              "       [1],\n",
              "       [0],\n",
              "       [1],\n",
              "       [1],\n",
              "       [0],\n",
              "       [0],\n",
              "       [1],\n",
              "       [1],\n",
              "       [0],\n",
              "       [1],\n",
              "       [1],\n",
              "       [0],\n",
              "       [0],\n",
              "       [1],\n",
              "       [1],\n",
              "       [0],\n",
              "       [1],\n",
              "       [1],\n",
              "       [0],\n",
              "       [0]])"
            ]
          },
          "metadata": {},
          "execution_count": 16
        }
      ]
    },
    {
      "cell_type": "markdown",
      "metadata": {
        "id": "TFAKpwY_N_H_"
      },
      "source": [
        "Итерация по эпохам"
      ]
    },
    {
      "cell_type": "code",
      "metadata": {
        "id": "DWmQFlyWN_IB",
        "outputId": "cf44cf72-4064-486c-bbdf-7a863493f82d",
        "colab": {
          "base_uri": "https://localhost:8080/"
        }
      },
      "source": [
        "epochs = 3\n",
        "\n",
        "for n_epoch in range(epochs):\n",
        "    \n",
        "    dataset_passed_samples = 0\n",
        "    \n",
        "    for x, y in train_loader:\n",
        "        \n",
        "        # вот здесь мы могли бы как-то манипулировать с данными, например, учить, но пока этого делать не будет\n",
        "        \n",
        "        time.sleep(0.05)\n",
        "        \n",
        "        dataset_passed_samples += x.shape[0]\n",
        "        \n",
        "        dataset_passed_percent = dataset_passed_samples * 100 / train_loader.dataset.data.shape[0]\n",
        "        \n",
        "        print(f'Эпоха - {n_epoch + 1}, прошли - {dataset_passed_percent:.2f} % датасета', end='\\r')\n",
        "        \n",
        "    print('\\r')"
      ],
      "execution_count": null,
      "outputs": [
        {
          "output_type": "stream",
          "name": "stdout",
          "text": [
            "Эпоха - 1, прошли - 100.00 % датасета\n",
            "Эпоха - 2, прошли - 100.00 % датасета\n",
            "Эпоха - 3, прошли - 100.00 % датасета\n"
          ]
        }
      ]
    },
    {
      "cell_type": "markdown",
      "metadata": {
        "id": "8iBd9MS_f7Eg"
      },
      "source": [
        "# Однослойный персептрон"
      ]
    },
    {
      "cell_type": "code",
      "metadata": {
        "id": "x9wKt3z1gIo7",
        "outputId": "61f2847a-579a-4713-bc78-d9cdf6e0acd9",
        "colab": {
          "base_uri": "https://localhost:8080/"
        }
      },
      "source": [
        "learning_rate = 0.01 # тот самый лернинг рейт, который определяет какую часть от градиента мы будем брать\n",
        "epochs = 5  #сколько раз мы пройдем по всему тренировачному набору наших данных\n",
        "\n",
        "batch_size = 128  #это число примеров в баче понадобится нам при обучении чтобы усреднять лосс (ошибку обучения)\n",
        "n_feat = 784\n",
        "\n",
        "w1 = np.random.rand(n_feat,1)*0.01 #0.01 - нормируем таким образом наши веса, чтобы избежать деления на ноль при бэкпропе, \n",
        "                                    #эмпирически выбрано, так как сами фичи у нас имеют значения близкие к 0\n",
        "b1 = np.zeros(1) #размерность должна совпадать с количеством параметров, которые у нас останутся после матричного перемножения\n",
        "\n",
        "losses = [] #на каждой итерации (и для всех эпох) будем сохранять сюда наш Лосс, чтобы видеть обучается ли НС\n",
        "\n",
        "for n_epoch in range(epochs):\n",
        "    \n",
        "    print(f'Epoch: {n_epoch + 1}')\n",
        "    \n",
        "    for x, y in train_loader:\n",
        "\n",
        "        x = x.view(x.shape[0], -1).numpy() #приводим к размерности (128,784)\n",
        "        y = np.expand_dims(y.numpy(), 1) #приводим к размерности (128,1)\n",
        "\n",
        "        h1 = x.dot(w1) + b1 #переход в одномерное пространство\n",
        "        p = 1/(1+np.exp(-h1)) #преобразование в \"вероятности\"\n",
        "        \n",
        "        bce = (-np.sum(np.multiply(np.log(p), y) + np.multiply((1 - y), np.log(1 - p)))) / batch_size \n",
        "        #расчет энтропии с усреднением по размеру бача\n",
        "          \n",
        "        losses.append(bce) \n",
        "        #ниже производная bce и sigmoid, если вы распишите две этих производные, перемножите и сократите, то полчится следующая строчка\n",
        "        dp = (p - y) / batch_size \n",
        "        dw1 = np.dot(x.T, dp) # производная по линейному преобразванию, относительно W - весов \n",
        "        db1 = np.sum(dp) # производная по лин преобразованиюб относительно В - баяса, \n",
        "        #здесь по идее должно быть перемножение на единичный вектор (128,1), но это тоже самое что и сумма значениеб типа лайф хак\n",
        "        \n",
        "        w1 -= learning_rate * dw1 # Обновим веса и баясы \n",
        "        b1 -= learning_rate * db1"
      ],
      "execution_count": null,
      "outputs": [
        {
          "output_type": "stream",
          "name": "stdout",
          "text": [
            "Epoch: 1\n",
            "Epoch: 2\n",
            "Epoch: 3\n",
            "Epoch: 4\n",
            "Epoch: 5\n"
          ]
        }
      ]
    },
    {
      "cell_type": "markdown",
      "source": [],
      "metadata": {
        "id": "XUb_gV_qIatD"
      }
    },
    {
      "cell_type": "markdown",
      "metadata": {
        "id": "Lc3-pw-4wMum"
      },
      "source": [
        "А теперь построим график функции потерь"
      ]
    },
    {
      "cell_type": "code",
      "metadata": {
        "id": "NvB4U5OXhE3t",
        "outputId": "8a12d220-9d64-46d4-dd7c-e6a90ed4242f",
        "colab": {
          "base_uri": "https://localhost:8080/",
          "height": 747
        }
      },
      "source": [
        "plt.figure(figsize=(14, 12))\n",
        "plt.plot(losses)\n",
        "plt.grid()\n",
        "plt.title('Training process')\n",
        "plt.xlabel('Iterations')\n",
        "plt.ylabel('Loss function')"
      ],
      "execution_count": null,
      "outputs": [
        {
          "output_type": "execute_result",
          "data": {
            "text/plain": [
              "Text(0, 0.5, 'Loss function')"
            ]
          },
          "metadata": {},
          "execution_count": 20
        },
        {
          "output_type": "display_data",
          "data": {
            "text/plain": [
              "<Figure size 1008x864 with 1 Axes>"
            ],
            "image/png": "[encoded data removed]"
          },
          "metadata": {
            "needs_background": "light"
          }
        }
      ]
    },
    {
      "cell_type": "markdown",
      "metadata": {
        "id": "IfpCVrN2tO5S"
      },
      "source": [
        "## Математика \n",
        "\n",
        "\n",
        "![alt text](https://sun9-39.userapi.com/c850608/v850608777/47a4/fgZlI898IUU.jpg)\n",
        "![alt text](https://sun9-41.userapi.com/c858216/v858216777/cc4f5/v3CPa-tnm80.jpg)\n",
        "![alt text](https://sun9-67.userapi.com/c857632/v857632471/f6e95/H0dsmWsUInc.jpg)\n",
        "![alt text](https://sun9-71.userapi.com/c858120/v858120274/10d0ef/hdKO-3Syk3g.jpg)\n",
        "\n"
      ]
    },
    {
      "cell_type": "markdown",
      "metadata": {
        "id": "ToNAC3-bN_IN"
      },
      "source": [
        "А теперь ваша очередь, нужно написать двуслоный персептрон, согласно коду и выкладкам выше"
      ]
    },
    {
      "cell_type": "code",
      "source": [
        "### КОД СЮДА ###\n",
        "\n",
        "batch_size = 128  #это число примеров в баче понадобится нам при обучении чтобы усреднять лосс (ошибку обучения)\n",
        "n_feat = 784\n",
        "\n",
        "learning_rate = 0.01\n",
        "epochs = 5\n",
        "w1 = np.random.rand(n_feat,128)*0.01 #0.01 - нормируем таким образом наши веса, чтобы избежать деления на ноль при бэкпропе, \n",
        "                                    #эмпирически выбрано, так как сами фичи у нас имеют значения близкие к 0\n",
        "b1 = np.zeros(1) #размерность должна совпадать с количеством параметров, которые у нас останутся после матричного перемножения\n",
        "b2 = np.zeros(1)\n",
        "w2 = np.random.rand(128,1)*0.01  ###взял их просто так же, как w1 и b1, скорее всего это неправильно, но не знаю как их еще задать (для wp2 только другая размерность, и возможно стоит подобрать другую)\n",
        "losses = []\n",
        "\n",
        "for n_epoch in range(epochs):\n",
        "    \n",
        "    print(f'Epoch: {n_epoch + 1}')\n",
        "    \n",
        "    for x, y in train_loader:\n",
        "        \n",
        "        x = x.view(x.shape[0], -1).numpy()\n",
        "        y = np.expand_dims(y.numpy(), 1)\n",
        "        \n",
        "        ### КОД СЮДА ###\n",
        "        \n",
        "        # forward\n",
        "        ###этот код осонован на первой странице в математической тетради, я в нем почти уверен, но все равно мб что-то неправильно\n",
        "        A1 = np.dot(x, w1) + b1\n",
        "        Z1 = 1/(1+np.exp(-A1))\n",
        "        A2 = np.dot(Z1, w2) + b2   \n",
        "        Z2 = 1/(1+np.exp(-A2))\n",
        "        p = 1/(1+np.exp(-Z2)) #преобразование в \"вероятности\"\n",
        "        # рассчет bce\n",
        "        \n",
        "        \n",
        "        bce = (-np.sum(np.multiply(np.log(p), y) + np.multiply((1 - y), np.log(1 - p)))) / batch_size ### взято из одномерного\n",
        "        losses.append(bce)\n",
        "        # backward\n",
        "        ###этот код основан на второй странице в математической тетради + на некоторых формулах из кода для однослойной модели, в этой части я гораздо меньше уверен\n",
        "        derivat_BCE = (((1-y) / (1-p)) - y / p) / batch_size\n",
        "        derivat_sigm = p * (1 - p)\n",
        "        expZ=1-((np.exp(Z2)-np.exp(-Z2))/(np.exp(Z2)+np.exp(-Z2))) ###скорее всего здесь именно Z2, но в конспекте просто Z, поэтому до конца не уверен\n",
        "        dw2 = np.dot(Z2.T,np.multiply(derivat_BCE,derivat_sigm)) ### не уверен до конца, где дот, а где мультиплай (дот перемножает матрицы, а мультиплай числа между матрицами)\n",
        "        dw1 = np.dot(x.T, (p - y) / batch_size) ###это взято из кода для однослойной модели, возможно это неправильно\n",
        "        db2 = np.sum(np.multiply(derivat_BCE,derivat_sigm))\n",
        "        db1 = np.sum( (p - y) / batch_size) ###это взято из кода для однослойной модели, возможно это неправильно\n",
        "        # gradient descent\n",
        "        w1 -= learning_rate * dw1\n",
        "        b1 -= learning_rate * db1\n",
        "        w2 -= learning_rate * dw2 \n",
        "        b2 -= learning_rate * db2"
      ],
      "metadata": {
        "id": "t9JXmwtYH7So",
        "colab": {
          "base_uri": "https://localhost:8080/"
        },
        "outputId": "c71b5576-610f-4bf0-9a56-b88266f31dfa"
      },
      "execution_count": null,
      "outputs": [
        {
          "output_type": "stream",
          "name": "stdout",
          "text": [
            "Epoch: 1\n",
            "Epoch: 2\n",
            "Epoch: 3\n",
            "Epoch: 4\n",
            "Epoch: 5\n"
          ]
        }
      ]
    },
    {
      "cell_type": "markdown",
      "metadata": {
        "id": "ur7SqyVGN_IY"
      },
      "source": [
        "## Подсказки по размерностям\n",
        "\n",
        "### Forward\n",
        "\n",
        "- z1 - первое линейное преобразование - (BATCH_SIZE, INNER_FEATURES)\n",
        "- a1 - Применение нелинейности - (BATCH_SIZE, INNER_FEATURES)\n",
        "- z2 - второе нелинейное преобразование - (BATCH_SIZE, 1)\n",
        "- pred or A2- сигмоида - (BATCH_SIZE, 1)\n",
        "- loss - функция потерь - скаляр\n",
        "\n",
        "### Backward\n",
        "\n",
        "- d_BCE/d_pred - градиент функции потерь по pred - (BATCH_SIZE, 1)\n",
        "- d_pred/dz2 - градиент сигмоиды по z2 - (BATCH_SIZE, 1)\n",
        "- dz2/da1 - градиент линейного преобразования по a1 - (BATCH_SIZE, INNER_FEATURES)\n",
        "- dz2/dw2 - градиент линейного преобразования по w2 - (INNER_FEATURES, 1)\n",
        "- dz2/db2 - градиент линейного преобразования по b2 - (1,)\n",
        "- da1/dz1 - градиент нелинейной функции по z1 - (BATCH_SIZE, INNER_FEATURES)\n",
        "- dz1/dw1 - градиент линейного преобразования по w1 - (IN_FEATURES, INNER_FEATURES)\n",
        "- dz1/db1 - градиент линейного преобразования по b1 - (INNER_FEATURES,)"
      ]
    },
    {
      "cell_type": "markdown",
      "metadata": {
        "id": "ihOoASMAN_Ia"
      },
      "source": [
        "и график нарисуйте"
      ]
    },
    {
      "cell_type": "code",
      "metadata": {
        "id": "CwRzXKRNN_Ic",
        "outputId": "9a58dfb6-7f98-491e-d74a-bc8118e5334d",
        "colab": {
          "base_uri": "https://localhost:8080/",
          "height": 730
        }
      },
      "source": [
        "plt.figure(figsize=(14, 12))\n",
        "plt.plot(losses)\n",
        "plt.grid()\n",
        "plt.title('Training process')\n",
        "plt.xlabel('Iterations')\n",
        "plt.ylabel('Loss function');"
      ],
      "execution_count": null,
      "outputs": [
        {
          "output_type": "display_data",
          "data": {
            "text/plain": [
              "<Figure size 1008x864 with 1 Axes>"
            ],
            "image/png": "[encoded data removed]"
          },
          "metadata": {
            "needs_background": "light"
          }
        }
      ]
    },
    {
      "cell_type": "code",
      "metadata": {
        "id": "vigk5CgmIDsP"
      },
      "source": [],
      "execution_count": null,
      "outputs": []
    },
    {
      "cell_type": "markdown",
      "metadata": {
        "id": "axU2DnJ1IT1J"
      },
      "source": [
        "# Тестирование"
      ]
    },
    {
      "cell_type": "markdown",
      "metadata": {
        "id": "4sd8o1ZbIEXH"
      },
      "source": [
        "А как это тестировать? Да, очень просто нужно просто выполнять форвард без бэкворда, то есть последовательно применять преобразования с обученными весами"
      ]
    },
    {
      "cell_type": "code",
      "metadata": {
        "id": "7DKeGWwzIliO"
      },
      "source": [
        "losses_test = []\n",
        "predicted = []\n",
        "true_lbls = []\n",
        "\n",
        "for x, y in test_loader:\n",
        "\n",
        "  x = x.view(x.shape[0], -1).numpy()\n",
        "  y = np.expand_dims(y.numpy(), 1)\n",
        "\n",
        "  h1 = x.dot(w1) + b1 #переход в одномерное пространство\n",
        "  p = 1/(1+np.exp(-h1)) #преобразование в \"вероятности\"\n",
        "  \n",
        "  bce = (-np.sum(np.multiply(np.log(p), y) + np.multiply((1 - y), np.log(1 - p)))) / batch_size \n",
        "  #расчет энтропии с усреднением по размеру бача\n",
        "    \n",
        "  losses_test.append(bce)\n",
        "  predicted.extend(p)\n",
        "  true_lbls.extend(y) "
      ],
      "execution_count": null,
      "outputs": []
    },
    {
      "cell_type": "markdown",
      "metadata": {
        "id": "259SOuP5K2HR"
      },
      "source": [
        "Проверим, что для каждого семплау нас есть предсказание"
      ]
    },
    {
      "cell_type": "code",
      "metadata": {
        "id": "J3NQGFxfJY-4",
        "outputId": "2f71ca0f-f296-481d-b076-1b80a4385b4e",
        "colab": {
          "base_uri": "https://localhost:8080/",
          "height": 34
        }
      },
      "source": [
        "print(len(predicted), len(true_lbls))"
      ],
      "execution_count": null,
      "outputs": [
        {
          "output_type": "stream",
          "text": [
            "2038 2038\n"
          ],
          "name": "stdout"
        }
      ]
    },
    {
      "cell_type": "markdown",
      "metadata": {
        "id": "xWJ3fjLhK9z4"
      },
      "source": [
        "Теперь применим стандартную Ф меру и оценим нашу модель"
      ]
    },
    {
      "cell_type": "code",
      "metadata": {
        "id": "BbD-n9rVJlBe",
        "outputId": "1f3fb485-9ec7-42f6-aba8-6e390cef1b60",
        "colab": {
          "base_uri": "https://localhost:8080/",
          "height": 34
        }
      },
      "source": [
        "from sklearn.metrics import f1_score\n",
        "pred = np.array([round(i[0]) for i in predicted]) \n",
        "# У нас были вероятности а нужны классы поэтому просто округлим каждое значени и получим лейблы \n",
        "t_lbls = np.array(true_lbls).squeeze() #снимем лишнюю размерность\n",
        "f1 = f1_score(pred, t_lbls, average='weighted')\n",
        "print('F1 score is equal to: {0:0.02f}'.format(f1))"
      ],
      "execution_count": null,
      "outputs": [
        {
          "output_type": "stream",
          "text": [
            "F1 score is equal to: 0.98\n"
          ],
          "name": "stdout"
        }
      ]
    },
    {
      "cell_type": "markdown",
      "metadata": {
        "id": "vMxfUk9DLfNx"
      },
      "source": [
        "Сделайте тоже самое для своей модели..."
      ]
    },
    {
      "cell_type": "code",
      "metadata": {
        "id": "plkig1rcLmG_"
      },
      "source": [
        "losses_test = []\n",
        "predicted = []\n",
        "true_lbls = []\n",
        "\n",
        "for x, y in test_loader:\n",
        "\n",
        "  x = x.view(x.shape[0], -1).numpy()\n",
        "  y = np.expand_dims(y.numpy(), 1)\n",
        "\n",
        "# forward\n",
        "  A1 = np.dot(x, w1) + b1 ### если менять эту часть в модели, то придется и здесь менять, очевидно\n",
        "  Z1 = 1/(1+np.exp(-A1))\n",
        "  A2 = np.dot(Z1, w2) + b2\n",
        "  Z2 = 1/(1+np.exp(-A2))\n",
        "  p = 1/(1+np.exp(-Z2)) #преобразование в \"вероятности\"\n",
        "        # рассчет bce\n",
        "        \n",
        "        \n",
        "  bce = (-np.sum(np.multiply(np.log(p), y) + np.multiply((1 - y), np.log(1 - p)))) / batch_size \n",
        "  losses.append(bce)\n",
        "  predicted.extend(p)\n",
        "  true_lbls.extend(y) "
      ],
      "execution_count": null,
      "outputs": []
    },
    {
      "cell_type": "code",
      "source": [
        "print(len(predicted), len(true_lbls))"
      ],
      "metadata": {
        "colab": {
          "base_uri": "https://localhost:8080/"
        },
        "id": "aCeS2QKpA77t",
        "outputId": "882c2ec6-a26c-4e78-a48a-0e59fcbe2e79"
      },
      "execution_count": null,
      "outputs": [
        {
          "output_type": "stream",
          "name": "stdout",
          "text": [
            "2038 2038\n"
          ]
        }
      ]
    },
    {
      "cell_type": "code",
      "source": [
        "from sklearn.metrics import f1_score\n",
        "pred = np.array([round(i[0]) for i in predicted]) \n",
        "# У нас были вероятности а нужны классы поэтому просто округлим каждое значени и получим лейблы \n",
        "t_lbls = np.array(true_lbls).squeeze() #снимем лишнюю размерность\n",
        "f1 = f1_score(pred, t_lbls, average='weighted')\n",
        "print('F1 score is equal to: {0:0.02f}'.format(f1))"
      ],
      "metadata": {
        "colab": {
          "base_uri": "https://localhost:8080/"
        },
        "id": "DE8jvKjZA_Xl",
        "outputId": "dddd60bc-ed95-4d9d-beb5-672300374d3a"
      },
      "execution_count": null,
      "outputs": [
        {
          "output_type": "stream",
          "name": "stdout",
          "text": [
            "F1 score is equal to: 0.09\n"
          ]
        }
      ]
    },
    {
      "cell_type": "markdown",
      "metadata": {
        "id": "zHg6S-QgN_Mm"
      },
      "source": [
        "# Немного торча"
      ]
    },
    {
      "cell_type": "code",
      "metadata": {
        "id": "rWON-EQvN_Mn"
      },
      "source": [
        "import torch"
      ],
      "execution_count": null,
      "outputs": []
    },
    {
      "cell_type": "markdown",
      "metadata": {
        "id": "MYyJMcmQN_Mq"
      },
      "source": [
        "### Мы можем определить нашу модель как последовательность уже существующих слоев, как в керасе"
      ]
    },
    {
      "cell_type": "code",
      "metadata": {
        "id": "7WkLbwyAN_Mr",
        "outputId": "fbd817a1-3c24-47ec-e952-bb02ffde8042",
        "colab": {
          "base_uri": "https://localhost:8080/"
        }
      },
      "source": [
        "model = torch.nn.Sequential()\n",
        "\n",
        "model.add_module(name='linear_1', module=torch.nn.Linear(in_features=784, out_features=256))\n",
        "model.add_module(name='relu', module=torch.nn.ReLU())\n",
        "model.add_module(name='linear_2', module=torch.nn.Linear(in_features=256, out_features=1))\n",
        "model.add_module(name='sigmoid', module=torch.nn.Sigmoid())\n",
        "\n",
        "model"
      ],
      "execution_count": null,
      "outputs": [
        {
          "output_type": "execute_result",
          "data": {
            "text/plain": [
              "Sequential(\n",
              "  (linear_1): Linear(in_features=784, out_features=256, bias=True)\n",
              "  (relu): ReLU()\n",
              "  (linear_2): Linear(in_features=256, out_features=1, bias=True)\n",
              "  (sigmoid): Sigmoid()\n",
              ")"
            ]
          },
          "metadata": {},
          "execution_count": 22
        }
      ]
    },
    {
      "cell_type": "markdown",
      "metadata": {
        "id": "xFnSynhmN_Mw"
      },
      "source": [
        "### Либо так"
      ]
    },
    {
      "cell_type": "code",
      "metadata": {
        "id": "NjBXbnSNN_Mx",
        "outputId": "8fc4430a-67b3-410d-b201-2a076d03c67a",
        "colab": {
          "base_uri": "https://localhost:8080/"
        }
      },
      "source": [
        "model = torch.nn.Sequential(\n",
        "    torch.nn.Linear(in_features=784, out_features=256),\n",
        "    torch.nn.ReLU(),\n",
        "    torch.nn.Linear(in_features=256, out_features=1),\n",
        "    torch.nn.Sigmoid()\n",
        ")\n",
        "\n",
        "model"
      ],
      "execution_count": null,
      "outputs": [
        {
          "output_type": "execute_result",
          "data": {
            "text/plain": [
              "Sequential(\n",
              "  (0): Linear(in_features=784, out_features=256, bias=True)\n",
              "  (1): ReLU()\n",
              "  (2): Linear(in_features=256, out_features=1, bias=True)\n",
              "  (3): Sigmoid()\n",
              ")"
            ]
          },
          "metadata": {
            "tags": []
          },
          "execution_count": 6
        }
      ]
    },
    {
      "cell_type": "markdown",
      "metadata": {
        "id": "MKOnBBifN_M1"
      },
      "source": [
        "## А вот для чего нужно было писать в домашке классы\n",
        "## Для определения своих моделей/слоев/чего вам захочется нам нужно сделать такую структуру"
      ]
    },
    {
      "cell_type": "code",
      "metadata": {
        "id": "iNXM6WnUN_M9"
      },
      "source": [
        "# наследуемся от класса torch.nn.Module\n",
        "class MLP(torch.nn.Module):\n",
        "    \n",
        "    # определяем метод __init__\n",
        "    # он нужен для того, чтобы мы могли определить нужные нам слои, веса, сохраняемые операции\n",
        "    # \n",
        "    # передаем ссылку на самого себя первым параметром\n",
        "    # \n",
        "    # определяем любые другие передаваемые аргументы\n",
        "    # могут быть чем угодно: числа, словари, другие слои, другие модели и вообще все что угодно\n",
        "    # \n",
        "    def __init__(self, in_features, inner_features, out_features):\n",
        "        \n",
        "        # Главная задача этого метода - возможность использования в классе потомке, методов класса-родителя\n",
        "        # Вызываем __init__ родителя - torch.nn.Module\n",
        "        super().__init__()\n",
        "        \n",
        "        # определяем слои и все что захотим сохранять/использовать\n",
        "        self.linear_1 = torch.nn.Linear(in_features=in_features, out_features=inner_features)\n",
        "        self.non_linear_function = torch.nn.ReLU()\n",
        "        self.linear_2 = torch.nn.Linear(in_features=inner_features, out_features=out_features)\n",
        "        self.sigmoid = torch.nn.Sigmoid()\n",
        "        \n",
        "    # нам нужно обязательно реализовать метод forward\n",
        "    # это то, что нашей модели нужно делать, как оперировать с входными данными, как рассчитывать\n",
        "    # метод backward нам не нужно реализовывать, потому что в торче есть автоматическое дифференцирование\n",
        "    # главное, чтобы наши операции были дифференцируемы\n",
        "    # некоторые подробности можете узнать здесь:\n",
        "    # https://pytorch.org/tutorials/beginner/blitz/autograd_tutorial.html#sphx-glr-beginner-blitz-autograd-tutorial-py\n",
        "    # также список доступных дифференцируемых операций можете посмотреть здесь:\n",
        "    # https://pytorch.org/docs/stable/tensors.html\n",
        "    def forward(self, x):\n",
        "        \n",
        "        # наша привычная схема\n",
        "        x = self.linear_1(x)\n",
        "        x = self.non_linear_function(x)\n",
        "        x = self.linear_2(x)\n",
        "        x = self.sigmoid(x)\n",
        "        \n",
        "        return x\n",
        "    \n",
        "    # мы также можем реализовать любые другие полезные нам методы внутри класса"
      ],
      "execution_count": null,
      "outputs": []
    },
    {
      "cell_type": "code",
      "metadata": {
        "id": "Ftetvx8MN_NA"
      },
      "source": [
        "# определяем нашу модель\n",
        "model = MLP(in_features=784, inner_features=256, out_features=1)"
      ],
      "execution_count": null,
      "outputs": []
    },
    {
      "cell_type": "code",
      "metadata": {
        "id": "G3zivrXiN_ND",
        "scrolled": true,
        "outputId": "16b7f133-35ed-4a99-9524-4125c42bd179",
        "colab": {
          "base_uri": "https://localhost:8080/"
        }
      },
      "source": [
        "model"
      ],
      "execution_count": null,
      "outputs": [
        {
          "output_type": "execute_result",
          "data": {
            "text/plain": [
              "MLP(\n",
              "  (linear_1): Linear(in_features=784, out_features=256, bias=True)\n",
              "  (non_linear_function): ReLU()\n",
              "  (linear_2): Linear(in_features=256, out_features=1, bias=True)\n",
              "  (sigmoid): Sigmoid()\n",
              ")"
            ]
          },
          "metadata": {},
          "execution_count": 25
        }
      ]
    },
    {
      "cell_type": "code",
      "metadata": {
        "id": "pa4BG_t_N_NG",
        "outputId": "392826b8-8634-4ccc-cc08-3a403b5112f1",
        "colab": {
          "base_uri": "https://localhost:8080/"
        }
      },
      "source": [
        "# можем посмотреть веса\n",
        "model.linear_1.weight.shape"
      ],
      "execution_count": null,
      "outputs": [
        {
          "output_type": "execute_result",
          "data": {
            "text/plain": [
              "torch.Size([256, 784])"
            ]
          },
          "metadata": {},
          "execution_count": 26
        }
      ]
    },
    {
      "cell_type": "code",
      "metadata": {
        "id": "n2hPqcyxN_NQ"
      },
      "source": [
        "# еще нам нужно задать функцию потерь \n",
        "criterion = torch.nn.BCELoss()"
      ],
      "execution_count": null,
      "outputs": []
    },
    {
      "cell_type": "code",
      "metadata": {
        "id": "IEpYutCqN_Na"
      },
      "source": [
        "# и оптимизатор, куда нужно передать параметры модели\n",
        "# параметры модели можно взять методом класса .parameters()\n",
        "optimizer = torch.optim.SGD(params=model.parameters(), lr=0.01)"
      ],
      "execution_count": null,
      "outputs": []
    },
    {
      "cell_type": "code",
      "metadata": {
        "id": "V-ssB6KsN_Nf",
        "outputId": "a8103829-9916-42b0-919c-2a4cedae899d",
        "colab": {
          "base_uri": "https://localhost:8080/"
        }
      },
      "source": [
        "# можем посмотреть на параметры нашей модели\n",
        "params = list(model.parameters())\n",
        "params"
      ],
      "execution_count": null,
      "outputs": [
        {
          "output_type": "execute_result",
          "data": {
            "text/plain": [
              "[Parameter containing:\n",
              " tensor([[ 0.0329,  0.0117,  0.0060,  ..., -0.0165,  0.0141, -0.0011],\n",
              "         [-0.0182, -0.0043, -0.0077,  ...,  0.0106,  0.0334, -0.0199],\n",
              "         [ 0.0049, -0.0229, -0.0096,  ..., -0.0267, -0.0241, -0.0257],\n",
              "         ...,\n",
              "         [-0.0239,  0.0203,  0.0315,  ..., -0.0225, -0.0225,  0.0099],\n",
              "         [ 0.0267, -0.0135,  0.0263,  ..., -0.0047, -0.0002,  0.0242],\n",
              "         [-0.0012, -0.0291,  0.0248,  ..., -0.0258, -0.0346,  0.0144]],\n",
              "        requires_grad=True), Parameter containing:\n",
              " tensor([-1.8489e-02,  2.2623e-02,  3.1143e-02,  7.4616e-03, -1.8158e-02,\n",
              "          8.4540e-03, -3.0979e-02, -2.5472e-02,  1.0681e-03,  2.6345e-02,\n",
              "          3.3758e-03, -2.5964e-02,  1.0062e-02,  2.9211e-02,  3.3791e-02,\n",
              "          2.9581e-02, -8.0542e-03,  1.4538e-02,  1.3237e-02,  2.6548e-02,\n",
              "          2.1459e-03,  2.9003e-02, -3.0451e-02, -2.3110e-02,  3.5430e-02,\n",
              "          3.4668e-02,  2.2544e-03,  4.8987e-04,  2.6982e-03,  7.0158e-03,\n",
              "          3.2037e-02,  6.8089e-03, -1.7204e-02, -4.9632e-04, -1.1709e-03,\n",
              "          1.9387e-02, -5.2623e-03, -2.2511e-02, -2.1717e-02, -3.1281e-02,\n",
              "          6.2541e-03, -3.1400e-03,  1.3275e-03,  1.3647e-02, -1.3418e-02,\n",
              "          1.2843e-02,  5.3250e-03, -1.0387e-03,  1.8200e-03, -1.1619e-02,\n",
              "         -2.9844e-02,  3.5051e-02, -2.3167e-02, -1.8238e-02,  1.9261e-02,\n",
              "         -3.4210e-02, -1.6402e-02,  1.0838e-03, -1.6737e-02, -3.4702e-02,\n",
              "         -2.3312e-02,  4.3285e-03,  4.6940e-03,  6.0296e-03,  3.2078e-02,\n",
              "          3.1348e-02,  5.2508e-03,  1.3555e-02, -2.9233e-02,  2.9286e-03,\n",
              "          7.9923e-03, -2.5098e-02,  7.0849e-05,  4.0209e-03,  1.6337e-02,\n",
              "          5.7700e-04,  1.0905e-02, -2.9402e-02, -2.8029e-02, -2.3560e-02,\n",
              "         -6.5020e-03,  5.9376e-03,  3.2650e-02,  3.1056e-02, -2.9165e-02,\n",
              "         -2.2414e-02, -3.0515e-02, -3.5169e-03,  3.6883e-04, -1.4000e-02,\n",
              "         -1.2392e-02,  2.6043e-02,  7.2037e-03, -2.3369e-02, -2.0592e-02,\n",
              "         -3.2549e-02, -2.1910e-02,  1.8665e-02, -3.0042e-02, -1.3122e-02,\n",
              "         -1.9968e-02, -1.9976e-02, -5.4069e-03, -2.9666e-02,  1.8719e-02,\n",
              "         -4.1069e-03, -2.1588e-02, -2.6776e-02, -1.1491e-02, -2.6469e-02,\n",
              "          8.8311e-03,  2.1383e-02,  5.4492e-03,  3.9110e-03,  1.6196e-02,\n",
              "          2.7121e-02, -2.6577e-02,  4.8662e-03, -1.5187e-02, -2.9412e-02,\n",
              "         -1.3653e-02, -2.3584e-02,  1.9908e-02,  2.8771e-02,  8.7780e-03,\n",
              "         -1.5814e-02,  3.2301e-02, -2.7533e-02, -3.0357e-02,  1.1028e-02,\n",
              "         -2.0174e-03, -3.3526e-02, -4.0961e-04, -2.8270e-02,  1.0874e-02,\n",
              "          3.3683e-02,  7.1878e-03,  3.1792e-02, -1.5442e-02, -1.0184e-02,\n",
              "          1.9480e-02,  6.9382e-03,  2.2057e-02,  1.0024e-02,  3.5159e-02,\n",
              "          1.7443e-02,  5.7067e-03,  3.2424e-02, -2.6096e-02, -1.1871e-02,\n",
              "          3.6626e-03,  1.0684e-02,  2.7108e-02,  3.0296e-02,  1.3813e-02,\n",
              "          2.5673e-02, -2.9367e-02,  3.5484e-02, -2.0559e-02,  2.8654e-02,\n",
              "         -2.3157e-02, -4.8942e-04,  2.7835e-02,  1.8620e-02,  4.9725e-03,\n",
              "          8.0087e-03, -6.5053e-04,  3.4860e-02,  1.6269e-02,  1.9439e-02,\n",
              "          1.0524e-02, -3.0405e-02, -4.9737e-03, -4.1843e-03,  3.8702e-03,\n",
              "          2.9342e-03, -1.0544e-02, -5.4466e-03, -2.8622e-02, -8.7077e-03,\n",
              "         -2.2264e-02,  3.0132e-02,  1.6516e-02,  2.8023e-02,  2.7705e-02,\n",
              "         -1.4659e-02, -3.3087e-03,  1.2444e-02, -2.1032e-03, -1.4474e-02,\n",
              "         -2.2006e-02, -3.2174e-02,  1.2903e-02,  3.4331e-03,  2.8807e-02,\n",
              "         -3.4266e-02,  7.1467e-03,  2.8454e-02, -1.0938e-02,  1.8746e-02,\n",
              "          7.1697e-03, -7.9856e-03, -2.3673e-02, -6.4572e-03,  3.2844e-02,\n",
              "         -2.1372e-02, -1.2623e-02,  5.5315e-03, -2.8436e-02, -3.0106e-02,\n",
              "         -4.4381e-04,  2.8167e-02,  2.0134e-02,  3.4248e-03, -2.8232e-02,\n",
              "         -1.7013e-02,  3.6451e-04,  1.9271e-02,  2.1662e-02,  2.6723e-02,\n",
              "          2.6267e-02,  1.9017e-02,  3.2572e-02, -2.7682e-03,  9.9555e-03,\n",
              "          1.9466e-02, -3.5712e-02, -1.3439e-02, -3.5150e-02,  1.7802e-02,\n",
              "         -1.3308e-02, -2.2491e-04, -1.8884e-02, -1.6195e-02, -3.2704e-02,\n",
              "         -2.7520e-02, -3.8171e-03, -2.7633e-02, -3.5430e-02,  2.7144e-03,\n",
              "          2.7260e-02, -2.9182e-02,  1.7187e-03,  3.3172e-02,  1.5294e-02,\n",
              "         -3.5688e-02, -2.4754e-02, -2.8790e-02,  1.2227e-02,  2.1183e-02,\n",
              "          2.2087e-03,  1.3679e-02,  3.0718e-02,  1.6384e-02, -8.6116e-03,\n",
              "          2.0487e-02], requires_grad=True), Parameter containing:\n",
              " tensor([[ 0.0507,  0.0607, -0.0073, -0.0058,  0.0035,  0.0024,  0.0615, -0.0114,\n",
              "          -0.0206,  0.0516, -0.0117,  0.0014,  0.0459, -0.0486, -0.0547,  0.0414,\n",
              "           0.0192,  0.0489,  0.0005,  0.0501, -0.0517, -0.0350,  0.0392, -0.0404,\n",
              "           0.0139, -0.0223, -0.0500,  0.0156,  0.0126, -0.0256, -0.0019,  0.0196,\n",
              "          -0.0176, -0.0131,  0.0279, -0.0035, -0.0605,  0.0226,  0.0492, -0.0028,\n",
              "           0.0624, -0.0115, -0.0434,  0.0304,  0.0621, -0.0493,  0.0051, -0.0161,\n",
              "          -0.0400, -0.0058, -0.0178,  0.0472, -0.0094,  0.0359,  0.0252, -0.0200,\n",
              "           0.0067, -0.0585, -0.0327, -0.0102, -0.0277, -0.0150, -0.0028, -0.0564,\n",
              "          -0.0259, -0.0144,  0.0431,  0.0199, -0.0418,  0.0584, -0.0145,  0.0443,\n",
              "           0.0261,  0.0527,  0.0360,  0.0245,  0.0179,  0.0384, -0.0599,  0.0062,\n",
              "          -0.0619,  0.0258, -0.0612,  0.0613, -0.0055, -0.0372, -0.0286, -0.0448,\n",
              "           0.0457,  0.0019, -0.0328, -0.0002,  0.0233,  0.0303,  0.0605, -0.0206,\n",
              "           0.0469, -0.0059, -0.0078,  0.0314, -0.0442, -0.0354, -0.0038,  0.0364,\n",
              "           0.0146,  0.0104, -0.0428,  0.0200,  0.0121, -0.0267,  0.0595,  0.0436,\n",
              "           0.0134, -0.0085,  0.0144,  0.0407,  0.0071, -0.0504, -0.0116, -0.0232,\n",
              "          -0.0282,  0.0439, -0.0590, -0.0328, -0.0008,  0.0306, -0.0437,  0.0222,\n",
              "          -0.0137, -0.0269, -0.0580,  0.0436,  0.0462,  0.0616, -0.0328,  0.0520,\n",
              "          -0.0511,  0.0421,  0.0210,  0.0248,  0.0032, -0.0060, -0.0280, -0.0185,\n",
              "           0.0322,  0.0052,  0.0370, -0.0010, -0.0245,  0.0002,  0.0082, -0.0379,\n",
              "          -0.0600,  0.0345,  0.0019,  0.0388, -0.0460,  0.0305,  0.0326, -0.0300,\n",
              "           0.0129, -0.0113,  0.0156, -0.0167, -0.0621, -0.0289, -0.0482, -0.0295,\n",
              "           0.0106, -0.0473, -0.0188,  0.0270, -0.0471, -0.0088,  0.0117, -0.0587,\n",
              "          -0.0178,  0.0259,  0.0479, -0.0200, -0.0405,  0.0534,  0.0061, -0.0030,\n",
              "           0.0609,  0.0167, -0.0022,  0.0071, -0.0136,  0.0088,  0.0501, -0.0270,\n",
              "           0.0505, -0.0130, -0.0155,  0.0303, -0.0189, -0.0210,  0.0232, -0.0555,\n",
              "          -0.0571, -0.0326,  0.0421,  0.0274,  0.0208, -0.0058, -0.0265,  0.0227,\n",
              "          -0.0233,  0.0397, -0.0446, -0.0576,  0.0276, -0.0374, -0.0470, -0.0492,\n",
              "          -0.0621, -0.0334, -0.0136,  0.0271, -0.0108, -0.0042,  0.0555,  0.0303,\n",
              "          -0.0483, -0.0523,  0.0367,  0.0290, -0.0599, -0.0132, -0.0539, -0.0434,\n",
              "           0.0180, -0.0505,  0.0606, -0.0341,  0.0067, -0.0509,  0.0300,  0.0432,\n",
              "          -0.0258, -0.0002, -0.0289, -0.0221,  0.0331, -0.0112, -0.0317,  0.0240,\n",
              "           0.0261,  0.0159,  0.0102,  0.0509,  0.0156,  0.0299,  0.0035,  0.0324]],\n",
              "        requires_grad=True), Parameter containing:\n",
              " tensor([0.0123], requires_grad=True)]"
            ]
          },
          "metadata": {},
          "execution_count": 29
        }
      ]
    },
    {
      "cell_type": "markdown",
      "metadata": {
        "id": "5dnDbvw0N_No"
      },
      "source": [
        "# Обучим нашу модель"
      ]
    },
    {
      "cell_type": "code",
      "metadata": {
        "id": "O8ayasdLN_Np"
      },
      "source": [
        "# давайте сохранять значения нашей функции потерь каждую итерацию обучения\n",
        "losses = []\n",
        "\n",
        "# эта штука все еще отдает нам батчи данных\n",
        "# мы поговорим про нее позже\n",
        "for x, y in train_loader:\n",
        "\n",
        "    x = x.view(x.shape[0], -1)\n",
        "    y = y.unsqueeze(1).float()\n",
        "    \n",
        "    # обновим наши градиенты\n",
        "    # будем делать это каждую итерацию обучения\n",
        "    # потому что торч сохраняет в себе все градиенты пока не удалите таким образом рассчитанные градиенты\n",
        "    # \n",
        "    # НЕОБЯЗАТЕЛЬНЫЕ ДЕТАЛИ\n",
        "    # функция сохранения градиентов нужна для аккамуляции градиентов\n",
        "    # например, когда нам не хватает памяти на большой батч\n",
        "    # мы можем несколько раз прогнать forward на разных батчах\n",
        "    # наши градиенты будут сохраняться\n",
        "    # и только потом обновить через несколько итераций forward обновить наши веса\n",
        "    # таким образом у нас получается больше батч\n",
        "    # \n",
        "    optimizer.zero_grad()\n",
        "    \n",
        "    # \n",
        "    # предсказание нашей модели\n",
        "    # здесь торч сам сохраняет необходимую информацию\n",
        "    # чтобы понять эту логику у нас как раз и была часть домашки про собственные классы\n",
        "    # \n",
        "    # торч строит динамический граф вычислений\n",
        "    # то есть строит граф по тем операциям, которые вы определили в методе forward\n",
        "    # \n",
        "    # то есть торч понимает, что вы сначала применили линейное преобразование\n",
        "    # знает, где лежат веса для этого линейного преобразования\n",
        "    # знает, что вы затем применили релу\n",
        "    # затем опять линейное преобразование\n",
        "    # затем сигмоиду\n",
        "    # и вот таким образом торч выстроил граф\n",
        "    # который нужен будет для backpropogation\n",
        "    # \n",
        "    pred = model(x)\n",
        "    \n",
        "    # \n",
        "    # рассчитываем функцию потерь, добавляя в наш граф вычислений этот узел\n",
        "    # \n",
        "    loss = criterion(pred, y.float())\n",
        "    \n",
        "    # \n",
        "    # вызываем метод backward() от нашей функции потерь (это крайний узел нашего графа вычислений)\n",
        "    # этот метод проходит от конца графа в начало, вычисляя необходимые градиенты\n",
        "    # передаем градиенты на следующие узлы\n",
        "    # для весов сохраняет\n",
        "    # \n",
        "    # то есть это почти то же самое, что мы делали в домашке с классами\n",
        "    # \n",
        "    loss.backward()\n",
        "    \n",
        "    # \n",
        "    # теперь мы знаем необходимые градиенты и можем обновить веса с помощью градиентного спуска\n",
        "    # \n",
        "    optimizer.step()\n",
        "    \n",
        "    # \n",
        "    # сохраним текущее значение функции потерь, чтобы потом могли посмотреть на график\n",
        "    # очень важный момент: нам нужно отсоединить значение нашей фунции потерь от графа вычислений\n",
        "    # чтобы граф не строился дальше на каждой итерации обучения\n",
        "    # так мы рано или поздно переполним память\n",
        "    # поэтому вызываем этот метод\n",
        "    # работает для скаляров\n",
        "    # \n",
        "    # для тензоров работает метод .tolist()\n",
        "    # \n",
        "    current_loss_value = loss.item()\n",
        "    losses.append(loss.item())"
      ],
      "execution_count": null,
      "outputs": []
    },
    {
      "cell_type": "code",
      "metadata": {
        "id": "KhopLN33N_Nw"
      },
      "source": [
        "# Одна эпоха прошла"
      ],
      "execution_count": null,
      "outputs": []
    },
    {
      "cell_type": "code",
      "metadata": {
        "id": "SIGFnAeMN_Nz",
        "outputId": "2705a244-bc09-46dd-c6d2-c42e4c9185f7",
        "colab": {
          "base_uri": "https://localhost:8080/",
          "height": 730
        }
      },
      "source": [
        "plt.figure(figsize=(14, 12))\n",
        "plt.plot(losses)\n",
        "plt.grid()\n",
        "plt.title('Training process')\n",
        "plt.xlabel('Iterations')\n",
        "plt.ylabel('Loss function');"
      ],
      "execution_count": null,
      "outputs": [
        {
          "output_type": "display_data",
          "data": {
            "text/plain": [
              "<Figure size 1008x864 with 1 Axes>"
            ],
            "image/png": "[encoded data removed]"
          },
          "metadata": {
            "needs_background": "light"
          }
        }
      ]
    },
    {
      "cell_type": "markdown",
      "metadata": {
        "id": "8oBFJlYrN_N3"
      },
      "source": [
        "# Теперь мы можем что-то предсказать"
      ]
    },
    {
      "cell_type": "code",
      "metadata": {
        "id": "pYQ-5cXnN_N4"
      },
      "source": [
        "for x, y in test_loader:\n",
        "\n",
        "    x = x.view(x.shape[0], -1)\n",
        "    y = y.unsqueeze(1).float()\n",
        "    \n",
        "    # чтобы не ходить по всему тестовому датасету, прекратим ходить после первой итерации\n",
        "    break"
      ],
      "execution_count": null,
      "outputs": []
    },
    {
      "cell_type": "code",
      "metadata": {
        "id": "Rb3ImXPNN_N_",
        "outputId": "32b1915b-d86d-4771-a086-2bc2eace0f25",
        "colab": {
          "base_uri": "https://localhost:8080/"
        }
      },
      "source": [
        "x.shape"
      ],
      "execution_count": null,
      "outputs": [
        {
          "output_type": "execute_result",
          "data": {
            "text/plain": [
              "torch.Size([128, 784])"
            ]
          },
          "metadata": {},
          "execution_count": 33
        }
      ]
    },
    {
      "cell_type": "code",
      "metadata": {
        "id": "5V_GO6_zN_OE",
        "outputId": "f62aa6b5-d03a-4fab-dc01-5fab3d0d8b88",
        "colab": {
          "base_uri": "https://localhost:8080/"
        }
      },
      "source": [
        "y.shape"
      ],
      "execution_count": null,
      "outputs": [
        {
          "output_type": "execute_result",
          "data": {
            "text/plain": [
              "torch.Size([128, 1])"
            ]
          },
          "metadata": {},
          "execution_count": 34
        }
      ]
    },
    {
      "cell_type": "code",
      "metadata": {
        "id": "_zHM8GRpN_OG",
        "outputId": "fda16e91-22b3-4ead-ed5a-b4231da13d23",
        "colab": {
          "base_uri": "https://localhost:8080/"
        }
      },
      "source": [
        "# переходим в режим предсказания\n",
        "# \n",
        "# позже в курсе мы разберем зачем конкретно это нужно\n",
        "# \n",
        "# для искушенного нетерпеливого читателя: дропаут больше не дропаутит, батч норм больше не нормирует каждый батч\n",
        "# а использует накопленную статистику при обучении и тд\n",
        "# \n",
        "model.eval()"
      ],
      "execution_count": null,
      "outputs": [
        {
          "output_type": "execute_result",
          "data": {
            "text/plain": [
              "MLP(\n",
              "  (linear_1): Linear(in_features=784, out_features=256, bias=True)\n",
              "  (non_linear_function): ReLU()\n",
              "  (linear_2): Linear(in_features=256, out_features=1, bias=True)\n",
              "  (sigmoid): Sigmoid()\n",
              ")"
            ]
          },
          "metadata": {},
          "execution_count": 35
        }
      ]
    },
    {
      "cell_type": "code",
      "metadata": {
        "id": "CT4N0ZAPN_OI"
      },
      "source": [
        "# этот контект позволяет не сохранять необходимую информацию для рассчета градиентов\n",
        "with torch.no_grad():\n",
        "\n",
        "    pred = model(x)"
      ],
      "execution_count": null,
      "outputs": []
    },
    {
      "cell_type": "code",
      "metadata": {
        "id": "R48ZI_iJN_OK",
        "outputId": "f01eba07-b7cc-4c42-c147-5b47a3fc49ad",
        "colab": {
          "base_uri": "https://localhost:8080/"
        }
      },
      "source": [
        "pred.shape"
      ],
      "execution_count": null,
      "outputs": [
        {
          "output_type": "execute_result",
          "data": {
            "text/plain": [
              "torch.Size([128, 1])"
            ]
          },
          "metadata": {},
          "execution_count": 37
        }
      ]
    },
    {
      "cell_type": "code",
      "metadata": {
        "id": "Azbcidg1N_OM"
      },
      "source": [
        "# избавимся от единичной размерности\n",
        "pred = pred.squeeze()\n",
        "y = y.squeeze()"
      ],
      "execution_count": null,
      "outputs": []
    },
    {
      "cell_type": "code",
      "metadata": {
        "id": "L7zm8vzBN_OO",
        "outputId": "7c76e4aa-bf1f-477a-ca3e-e43e8aaf05f5",
        "colab": {
          "base_uri": "https://localhost:8080/"
        }
      },
      "source": [
        "pred.shape"
      ],
      "execution_count": null,
      "outputs": [
        {
          "output_type": "execute_result",
          "data": {
            "text/plain": [
              "torch.Size([128])"
            ]
          },
          "metadata": {},
          "execution_count": 39
        }
      ]
    },
    {
      "cell_type": "code",
      "metadata": {
        "id": "JBARJLDIN_OT"
      },
      "source": [
        "# таким образом из торчовых тензоров мы можем сделать нумпаевские массивы\n",
        "pred = pred.numpy()\n",
        "y = y.numpy()"
      ],
      "execution_count": null,
      "outputs": []
    },
    {
      "cell_type": "code",
      "metadata": {
        "id": "8Y4gi0q7N_OZ",
        "outputId": "7b029a2b-dda3-4855-e0ab-1f7bd73bc280",
        "colab": {
          "base_uri": "https://localhost:8080/"
        }
      },
      "source": [
        "y"
      ],
      "execution_count": null,
      "outputs": [
        {
          "output_type": "execute_result",
          "data": {
            "text/plain": [
              "array([1., 1., 0., 1., 0., 0., 1., 1., 1., 0., 0., 1., 0., 1., 0., 1., 1.,\n",
              "       0., 1., 1., 1., 1., 0., 0., 0., 1., 1., 0., 1., 1., 1., 1., 1., 0.,\n",
              "       1., 0., 1., 0., 1., 0., 0., 0., 0., 0., 1., 1., 1., 0., 0., 1., 1.,\n",
              "       0., 1., 1., 1., 1., 0., 1., 1., 1., 0., 0., 0., 0., 1., 0., 0., 1.,\n",
              "       0., 0., 1., 0., 1., 0., 0., 1., 0., 0., 1., 1., 1., 1., 0., 1., 0.,\n",
              "       0., 0., 0., 0., 0., 1., 1., 0., 1., 0., 0., 0., 1., 0., 1., 0., 0.,\n",
              "       0., 0., 0., 1., 1., 1., 1., 0., 0., 0., 0., 0., 0., 1., 1., 0., 0.,\n",
              "       1., 0., 1., 1., 0., 1., 0., 0., 1.], dtype=float32)"
            ]
          },
          "metadata": {},
          "execution_count": 41
        }
      ]
    },
    {
      "cell_type": "code",
      "metadata": {
        "id": "QPlZdMfiN_Og",
        "outputId": "3673c2d3-fffe-4112-97d7-a31c06691daa"
      },
      "source": [
        "type(y)"
      ],
      "execution_count": null,
      "outputs": [
        {
          "output_type": "execute_result",
          "data": {
            "text/plain": [
              "numpy.ndarray"
            ]
          },
          "metadata": {
            "tags": []
          },
          "execution_count": 91
        }
      ]
    },
    {
      "cell_type": "code",
      "metadata": {
        "id": "Ck7Voa7HN_Ok"
      },
      "source": [
        "# бинаризируем наши предсказания\n",
        "pred[pred > 0.5] = 1\n",
        "pred[pred <= 0.5] = 0"
      ],
      "execution_count": null,
      "outputs": []
    },
    {
      "cell_type": "code",
      "metadata": {
        "id": "Ts85uzXFN_Om",
        "outputId": "ae6cbe3e-03a0-47a5-90ad-08f3ba7c3f49",
        "colab": {
          "base_uri": "https://localhost:8080/"
        }
      },
      "source": [
        "# посчитаем метрику на батче\n",
        "accuracy_score(y, pred)"
      ],
      "execution_count": null,
      "outputs": [
        {
          "output_type": "execute_result",
          "data": {
            "text/plain": [
              "0.9609375"
            ]
          },
          "metadata": {},
          "execution_count": 43
        }
      ]
    },
    {
      "cell_type": "code",
      "metadata": {
        "id": "yoynJ1-2N_Op"
      },
      "source": [
        "# заново определим нашу модель и выучимся несколько эпох\n",
        "# будут уже новые параметры\n",
        "model = MLP(in_features=784, inner_features=256, out_features=1)\n",
        "\n",
        "criterion = torch.nn.BCELoss()\n",
        "# мы позже поговорим про этот оптимизационный алгоритм\n",
        "optimizer = torch.optim.Adam(params=model.parameters())"
      ],
      "execution_count": null,
      "outputs": []
    },
    {
      "cell_type": "markdown",
      "metadata": {
        "id": "hzBgaRe7N_Os"
      },
      "source": [
        "# Типичный цикл обучения с кучей сохранений лоссов"
      ]
    },
    {
      "cell_type": "code",
      "metadata": {
        "id": "1zO6ruQbN_Ot",
        "outputId": "838af84c-ff97-46f0-9858-843458e7abf1",
        "colab": {
          "base_uri": "https://localhost:8080/"
        }
      },
      "source": [
        "epochs = 10\n",
        "losses = []\n",
        "# нужно для early stopping, то есть трекать лучший лосс на валидации\n",
        "best_test_loss = 10.\n",
        "\n",
        "for n_epoch in range(epochs):\n",
        "    \n",
        "    train_losses = []\n",
        "    test_losses = []\n",
        "    test_preds = []\n",
        "    test_targets = []\n",
        "    \n",
        "    progress_bar = tqdm(total=len(train_loader.dataset), desc='Epoch {}'.format(n_epoch + 1))\n",
        "    \n",
        "    for x, y in train_loader:\n",
        "        \n",
        "        x = x.view(x.shape[0], -1)\n",
        "        y = y.unsqueeze(1).float()\n",
        "        \n",
        "        optimizer.zero_grad()\n",
        "        \n",
        "        pred = model(x)\n",
        "        \n",
        "        loss = criterion(pred, y.float())\n",
        "        \n",
        "        loss.backward()\n",
        "        \n",
        "        optimizer.step()\n",
        "        \n",
        "        train_losses.append(loss.item())\n",
        "        losses.append(loss.item())\n",
        "        \n",
        "        progress_bar.set_postfix(train_loss = np.mean(losses[-100:]))\n",
        "\n",
        "        progress_bar.update(x.shape[0])\n",
        "        \n",
        "    progress_bar.close()\n",
        "    \n",
        "    for x, y in test_loader:\n",
        "        \n",
        "        x = x.view(x.shape[0], -1)\n",
        "        y = y.unsqueeze(1).float()\n",
        "\n",
        "        with torch.no_grad():\n",
        "            \n",
        "            pred = model(x)\n",
        "            \n",
        "        test_preds.append(pred.numpy())\n",
        "        test_targets.append(y.numpy())\n",
        "\n",
        "        loss = criterion(pred, y)\n",
        "\n",
        "        test_losses.append(loss.item())\n",
        "        \n",
        "    mean_test_loss = np.mean(test_losses)\n",
        "        \n",
        "    print('Losses: train - {:.3f}, test = {:.3f}'.format(np.mean(train_losses), mean_test_loss))\n",
        "    \n",
        "    test_preds = np.concatenate(test_preds)\n",
        "    test_preds = test_preds.squeeze()\n",
        "    test_targets = np.concatenate(test_targets).squeeze()\n",
        "    \n",
        "    test_preds[test_preds > 0.5] = 1\n",
        "    test_preds[test_preds <= 0.5] = 0\n",
        "    \n",
        "    accurary = accuracy_score(test_targets, test_preds)\n",
        "\n",
        "    print('Test: accuracy - {:.3f}'.format(accurary))\n",
        "        \n",
        "    # как раз early stopping\n",
        "    # то есть: если наша функция потерь на валидационном датасете стала расти, то прекращаем обучение\n",
        "    # рост фунции потерь на валидационном датасете говорит о переобучении\n",
        "    # пожалуй, самый популярный метод валидации для нейронных сетей\n",
        "    if mean_test_loss < best_test_loss:\n",
        "        best_test_loss = mean_test_loss\n",
        "    else:\n",
        "        print('Early stopping')\n",
        "        break    "
      ],
      "execution_count": null,
      "outputs": [
        {
          "output_type": "stream",
          "name": "stderr",
          "text": [
            "Epoch 1: 100%|██████████| 12396/12396 [00:03<00:00, 3514.87it/s, train_loss=0.063]\n"
          ]
        },
        {
          "output_type": "stream",
          "name": "stdout",
          "text": [
            "Losses: train - 0.063, test = 0.043\n",
            "Test: accuracy - 0.987\n"
          ]
        },
        {
          "output_type": "stream",
          "name": "stderr",
          "text": [
            "Epoch 2: 100%|██████████| 12396/12396 [00:03<00:00, 3523.15it/s, train_loss=0.0279]\n"
          ]
        },
        {
          "output_type": "stream",
          "name": "stdout",
          "text": [
            "Losses: train - 0.028, test = 0.030\n",
            "Test: accuracy - 0.990\n"
          ]
        },
        {
          "output_type": "stream",
          "name": "stderr",
          "text": [
            "Epoch 3: 100%|██████████| 12396/12396 [00:03<00:00, 3484.70it/s, train_loss=0.0175]\n"
          ]
        },
        {
          "output_type": "stream",
          "name": "stdout",
          "text": [
            "Losses: train - 0.017, test = 0.029\n",
            "Test: accuracy - 0.991\n"
          ]
        },
        {
          "output_type": "stream",
          "name": "stderr",
          "text": [
            "Epoch 4: 100%|██████████| 12396/12396 [00:03<00:00, 3517.69it/s, train_loss=0.00934]\n"
          ]
        },
        {
          "output_type": "stream",
          "name": "stdout",
          "text": [
            "Losses: train - 0.009, test = 0.030\n",
            "Test: accuracy - 0.991\n",
            "Early stopping\n"
          ]
        }
      ]
    },
    {
      "cell_type": "code",
      "metadata": {
        "id": "U4URcBJPN_Ow",
        "outputId": "c5b2dd03-5307-4d95-80e5-99a3b65a3f65"
      },
      "source": [
        "plt.figure(figsize=(14, 12))\n",
        "plt.plot(losses)\n",
        "plt.grid()\n",
        "plt.title('Training process')\n",
        "plt.xlabel('Iterations')\n",
        "plt.ylabel('Loss function');"
      ],
      "execution_count": null,
      "outputs": [
        {
          "output_type": "display_data",
          "data": {
            "image/png": "[encoded data removed]",
            "text/plain": [
              "<Figure size 1008x864 with 1 Axes>"
            ]
          },
          "metadata": {
            "tags": [],
            "needs_background": "light"
          }
        }
      ]
    }
  ]
}